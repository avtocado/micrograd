{
 "cells": [
  {
   "cell_type": "code",
   "execution_count": 1,
   "metadata": {},
   "outputs": [],
   "source": [
    "import math\n",
    "import numpy as np\n",
    "import os\n",
    "import matplotlib.pyplot as plt\n",
    "%matplotlib inline"
   ]
  },
  {
   "cell_type": "code",
   "execution_count": 2,
   "metadata": {},
   "outputs": [],
   "source": [
    "os.environ[\"PATH\"] += os.pathsep + r\"C:\\Users\\AChakhnashvili\\AppData\\Local\\Graphviz-10.0.1-win64\\bin\"\n",
    "os.environ[\"PATH\"] += os.pathsep + r\"C:\\Users\\AChakhnashvili\\AppData\\Local\\Graphviz-10.0.1-win64\\bin\\dot.exe\""
   ]
  },
  {
   "cell_type": "code",
   "execution_count": 3,
   "metadata": {},
   "outputs": [],
   "source": [
    "def f(x):\n",
    "    return 3*x**2 - 4*x + 5"
   ]
  },
  {
   "cell_type": "code",
   "execution_count": 4,
   "metadata": {},
   "outputs": [],
   "source": [
    "xs = np.arange(-5, 5, .25)\n",
    "ys = f(xs)"
   ]
  },
  {
   "cell_type": "code",
   "execution_count": 5,
   "metadata": {},
   "outputs": [
    {
     "data": {
      "text/plain": [
       "[<matplotlib.lines.Line2D at 0x25ed793fed0>]"
      ]
     },
     "execution_count": 5,
     "metadata": {},
     "output_type": "execute_result"
    },
    {
     "data": {
      "image/png": "[encoded data removed]",
      "text/plain": [
       "<Figure size 640x480 with 1 Axes>"
      ]
     },
     "metadata": {},
     "output_type": "display_data"
    }
   ],
   "source": [
    "plt.plot(xs, ys)"
   ]
  },
  {
   "cell_type": "code",
   "execution_count": 6,
   "metadata": {},
   "outputs": [
    {
     "data": {
      "text/plain": [
       "20"
      ]
     },
     "execution_count": 6,
     "metadata": {},
     "output_type": "execute_result"
    }
   ],
   "source": [
    "h = 0.0001\n",
    "x = 3\n",
    "f(x)"
   ]
  },
  {
   "cell_type": "code",
   "execution_count": 7,
   "metadata": {},
   "outputs": [
    {
     "data": {
      "text/plain": [
       "14.000300000063248"
      ]
     },
     "execution_count": 7,
     "metadata": {},
     "output_type": "execute_result"
    }
   ],
   "source": [
    "(f(x+h)-f(x))/h"
   ]
  },
  {
   "cell_type": "code",
   "execution_count": 8,
   "metadata": {},
   "outputs": [
    {
     "name": "stdout",
     "output_type": "stream",
     "text": [
      "4.0\n"
     ]
    }
   ],
   "source": [
    "# Let's get more complex\n",
    "\n",
    "a = 2.0\n",
    "b = -3.0\n",
    "c = 10.0\n",
    "d = a*b + c\n",
    "print(d)"
   ]
  },
  {
   "cell_type": "code",
   "execution_count": 9,
   "metadata": {},
   "outputs": [
    {
     "name": "stdout",
     "output_type": "stream",
     "text": [
      "d1 4.0\n",
      "d2 3.9999969999999996\n",
      "slope -3.000000000419334\n"
     ]
    }
   ],
   "source": [
    "# Let's get more complex\n",
    "\n",
    "a = 2.0\n",
    "b = -3.0\n",
    "c = 10.0\n",
    "d1 = a*b + c\n",
    "h = 0.000001\n",
    "a += h\n",
    "d2 = a*b + c\n",
    "\n",
    "print(\"d1\", d1)\n",
    "print(\"d2\", d2)\n",
    "print(\"slope\", (d2-d1)/h)"
   ]
  },
  {
   "cell_type": "code",
   "execution_count": 176,
   "metadata": {},
   "outputs": [],
   "source": [
    "class Value:\n",
    "    def __init__(self, data, _children=(), _op='', label=''):\n",
    "        self.data = data\n",
    "        self.grad = 0.0\n",
    "        self._backward = lambda: None      # by  default, it does nothing. This will be a case for the leaf node\n",
    "        self._prev = set(_children)\n",
    "        self._op = _op\n",
    "        self.label = label\n",
    "    def __repr__(self):\n",
    "        return f\"Value(data={self.data})\"\n",
    "\n",
    "    def __add__(self, other):\n",
    "        other = other if isinstance(other, Value) else Value(other)\n",
    "        out = Value(self.data + other.data, (self, other), \"+\")\n",
    "        def _backward():\n",
    "            self.grad += 1.0 * out.grad # it should logically be = and not +=. += handles when one node is referenced more than once. a + a for example\n",
    "            other.grad += 1.0 * out.grad\n",
    "        out._backward = _backward   # we don't define function, because it returns nothing. we just want to store the function\n",
    "\n",
    "        return out\n",
    "    def __radd__(self, other):\n",
    "        return self + other\n",
    "    def __mul__(self, other):\n",
    "        other = other if isinstance(other, Value) else Value(other)\n",
    "        out = Value(self.data * other.data, (self, other), \"*\")\n",
    "        def _backward():\n",
    "            self.grad += other.data * out.grad\n",
    "            other.grad += self.data * out.grad\n",
    "        out._backward = _backward\n",
    "        return out\n",
    "    \n",
    "    def __rmul__(self, other): # other * self: __mul__ will throw error if self is int and right is Value. This reverses the operation and handles that error\n",
    "        return self * other\n",
    "    \n",
    "    def __pow__(self, other):\n",
    "        assert isinstance(other, (int, float)), \"only supporting int/float powers for now\"\n",
    "        out = Value(self.data ** other, (self, ), f'**{other}')\n",
    "\n",
    "        def _backward():\n",
    "            self.grad += other * (self.data ** (other-1)) * out.grad\n",
    "        out._backward = _backward\n",
    "\n",
    "        return out\n",
    "    \n",
    "    def __truediv__(self, other): # self / other\n",
    "        return self * other **-1\n",
    "\n",
    "    def __neg__(self):  # -self\n",
    "        return self * -1\n",
    "    \n",
    "    def __sub__(self, other): # self - other\n",
    "        return self + (-other)\n",
    "\n",
    "    def tanh(self):\n",
    "        x = self.data\n",
    "        t = (math.exp(2*x) - 1)/(math.exp(2*x) + 1)        \n",
    "        out = Value(t, (self, ), 'tanh')\n",
    "        def _backward():\n",
    "            self.grad += (1 - t**2) * out.grad\n",
    "        out._backward = _backward\n",
    "        return out\n",
    "    \n",
    "    def exp(self):\n",
    "        x = self.data\n",
    "        out = Value(math.exp(x), (self, ), 'exp')\n",
    "\n",
    "        def _backward():\n",
    "            self.grad += out.data * out.grad\n",
    "        out._backward = _backward\n",
    "\n",
    "        return out\n",
    "    \n",
    "    def backward(self): # this implements topological sort that is defined below\n",
    "        topo = []\n",
    "        visited = set()\n",
    "\n",
    "        def build_topo(v):\n",
    "            if v not in visited:\n",
    "                visited.add(v)\n",
    "                for child in v._prev:\n",
    "                    build_topo(child)\n",
    "                topo.append(v)\n",
    "        build_topo(self)\n",
    "\n",
    "        self.grad = 1.0\n",
    "        for node in reversed(topo):\n",
    "            node._backward()"
   ]
  },
  {
   "cell_type": "code",
   "execution_count": 11,
   "metadata": {},
   "outputs": [
    {
     "data": {
      "text/plain": [
       "Value(data=-8.0)"
      ]
     },
     "execution_count": 11,
     "metadata": {},
     "output_type": "execute_result"
    }
   ],
   "source": [
    "a = Value(2.0, label='a')\n",
    "b = Value(-3.0, label='b')\n",
    "c = Value(10.0, label='c')\n",
    "e = a*b; e.label = 'e'\n",
    "d = e+c; d.label = \"d\"\n",
    "f = Value(-2.0, label='f')\n",
    "L = d * f; L.label = \"L\"\n",
    "L"
   ]
  },
  {
   "cell_type": "code",
   "execution_count": 12,
   "metadata": {},
   "outputs": [
    {
     "data": {
      "text/plain": [
       "{Value(data=-2.0), Value(data=4.0)}"
      ]
     },
     "execution_count": 12,
     "metadata": {},
     "output_type": "execute_result"
    }
   ],
   "source": [
    "L._prev"
   ]
  },
  {
   "cell_type": "code",
   "execution_count": 13,
   "metadata": {},
   "outputs": [
    {
     "data": {
      "text/plain": [
       "'*'"
      ]
     },
     "execution_count": 13,
     "metadata": {},
     "output_type": "execute_result"
    }
   ],
   "source": [
    "L._op"
   ]
  },
  {
   "cell_type": "code",
   "execution_count": 14,
   "metadata": {},
   "outputs": [],
   "source": [
    "from graphviz import Digraph\n",
    "\n",
    "def trace(root):\n",
    "    # builds a set of all nodes and edges in a graph\n",
    "    nodes, edges = set(), set()\n",
    "\n",
    "    def build(v):\n",
    "        if v not in nodes:\n",
    "            nodes.add(v)\n",
    "            for child in v._prev:\n",
    "                edges.add((child, v))\n",
    "                build(child)\n",
    "    build(root)\n",
    "    return nodes, edges\n",
    "\n",
    "def draw_dot(root):\n",
    "    dot = Digraph(format='svg', graph_attr={'rankdir':'LR'}) # LR = left to right\n",
    "    nodes, edges = trace(root)\n",
    "    for n in nodes:\n",
    "        uid = str(id(n))\n",
    "        dot.node(name= uid, label = \"{ %s | data %.4f | grad %.4f }\" % (n.label, n.data, n.grad,), shape = 'record')\n",
    "\n",
    "        if n._op:\n",
    "            dot.node(name = uid + n._op, label = n._op)\n",
    "\n",
    "            dot.edge(uid + n._op, uid)\n",
    "\n",
    "    for n1, n2 in edges:\n",
    "        dot.edge(str(id(n1)), str(id(n2)) + n2._op)\n",
    "\n",
    "    return dot"
   ]
  },
  {
   "cell_type": "markdown",
   "metadata": {},
   "source": [
    "We are always finding partial derivative for Loss. So we are interested in dL/dd, dL/df, dL/dc etc. This will give us what kind of change each node cause to the loss. \n",
    "\n",
    "for example:\n",
    "dL/dd = f\n",
    "L = d * f\n",
    "(f(x+h) = f(x))/h\n",
    "((d+h)*f - d*f)/h\n",
    "(d*f + h*f - d*f)/h = f"
   ]
  },
  {
   "cell_type": "markdown",
   "metadata": {},
   "source": [
    "**The important thing to remember is that we are interested in how the tiny change in each element of the function affects its output. So when it is multiplication or plus or any activation function, what we're interested in how each of the elements in this function affect the output node. That's why we are deriving the wrt to each element.**"
   ]
  },
  {
   "cell_type": "markdown",
   "metadata": {},
   "source": [
    "several things to remember abotut backprop:\n",
    "- loss' derivative wrt itself is 1\n",
    "- chain rule: derivative wrt the loss is multiplication of local derivative on the its output's derivative wrt loss. If we know the function's influence on the its output, and output's influence on the loss, it makes sense that we know function's effect on the Loss, that is the multiplication of those two numbers. \n",
    "- in each ._backward() we update the grad of the nodes that went into the function, not the output. That's because gradient is the effect of the inputs on the output, so during backprop, inputs should be updated(I got confused once why and how previous nodes where updated and this is a note for that)\n",
    "- plus sign is just a derivative distributor, it's derivative will be the same as it's next element. "
   ]
  },
  {
   "cell_type": "code",
   "execution_count": 43,
   "metadata": {},
   "outputs": [
    {
     "data": {
      "image/svg+xml": [
       "<?xml version=\"1.0\" encoding=\"UTF-8\" standalone=\"no\"?>\n",
       "<!DOCTYPE svg PUBLIC \"-//W3C//DTD SVG 1.1//EN\"\n",
       " \"http://www.w3.org/Graphics/SVG/1.1/DTD/svg11.dtd\">\n",
       "<!-- Generated by graphviz version 10.0.1 (20240210.2158)\n",
       " -->\n",
       "<!-- Pages: 1 -->\n",
       "<svg width=\"1149pt\" height=\"128pt\"\n",
       " viewBox=\"0.00 0.00 1148.75 128.00\" xmlns=\"http://www.w3.org/2000/svg\" xmlns:xlink=\"http://www.w3.org/1999/xlink\">\n",
       "<g id=\"graph0\" class=\"graph\" transform=\"scale(1 1) rotate(0) translate(4 124)\">\n",
       "<polygon fill=\"white\" stroke=\"none\" points=\"-4,4 -4,-124 1144.75,-124 1144.75,4 -4,4\"/>\n",
       "<!-- 2606374706256 -->\n",
       "<g id=\"node1\" class=\"node\">\n",
       "<title>2606374706256</title>\n",
       "<polygon fill=\"none\" stroke=\"black\" points=\"316.5,-83.5 316.5,-119.5 506.25,-119.5 506.25,-83.5 316.5,-83.5\"/>\n",
       "<text text-anchor=\"middle\" x=\"327.88\" y=\"-96.2\" font-family=\"Times New Roman,serif\" font-size=\"14.00\">c</text>\n",
       "<polyline fill=\"none\" stroke=\"black\" points=\"339.25,-83.75 339.25,-119.5\"/>\n",
       "<text text-anchor=\"middle\" x=\"379.5\" y=\"-96.2\" font-family=\"Times New Roman,serif\" font-size=\"14.00\">data 9.9600</text>\n",
       "<polyline fill=\"none\" stroke=\"black\" points=\"419.75,-83.75 419.75,-119.5\"/>\n",
       "<text text-anchor=\"middle\" x=\"463\" y=\"-96.2\" font-family=\"Times New Roman,serif\" font-size=\"14.00\">grad &#45;2.0000</text>\n",
       "</g>\n",
       "<!-- 2606375759248+ -->\n",
       "<g id=\"node8\" class=\"node\">\n",
       "<title>2606375759248+</title>\n",
       "<ellipse fill=\"none\" stroke=\"black\" cx=\"569.25\" cy=\"-73.5\" rx=\"27\" ry=\"18\"/>\n",
       "<text text-anchor=\"middle\" x=\"569.25\" y=\"-68.08\" font-family=\"Times New Roman,serif\" font-size=\"14.00\">+</text>\n",
       "</g>\n",
       "<!-- 2606374706256&#45;&gt;2606375759248+ -->\n",
       "<g id=\"edge4\" class=\"edge\">\n",
       "<title>2606374706256&#45;&gt;2606375759248+</title>\n",
       "<path fill=\"none\" stroke=\"black\" d=\"M506.64,-84.57C515.41,-82.99 523.9,-81.47 531.62,-80.08\"/>\n",
       "<polygon fill=\"black\" stroke=\"black\" points=\"531.98,-83.57 541.2,-78.36 530.74,-76.68 531.98,-83.57\"/>\n",
       "</g>\n",
       "<!-- 2606374592656 -->\n",
       "<g id=\"node2\" class=\"node\">\n",
       "<title>2606374592656</title>\n",
       "<polygon fill=\"none\" stroke=\"black\" points=\"947.25,-27.5 947.25,-63.5 1140.75,-63.5 1140.75,-27.5 947.25,-27.5\"/>\n",
       "<text text-anchor=\"middle\" x=\"957.12\" y=\"-40.2\" font-family=\"Times New Roman,serif\" font-size=\"14.00\"> </text>\n",
       "<polyline fill=\"none\" stroke=\"black\" points=\"967,-27.75 967,-63.5\"/>\n",
       "<text text-anchor=\"middle\" x=\"1012.88\" y=\"-40.2\" font-family=\"Times New Roman,serif\" font-size=\"14.00\">data &#45;47.0379</text>\n",
       "<polyline fill=\"none\" stroke=\"black\" points=\"1058.75,-27.75 1058.75,-63.5\"/>\n",
       "<text text-anchor=\"middle\" x=\"1099.75\" y=\"-40.2\" font-family=\"Times New Roman,serif\" font-size=\"14.00\">grad 0.0000</text>\n",
       "</g>\n",
       "<!-- 2606374592656* -->\n",
       "<g id=\"node3\" class=\"node\">\n",
       "<title>2606374592656*</title>\n",
       "<ellipse fill=\"none\" stroke=\"black\" cx=\"884.25\" cy=\"-45.5\" rx=\"27\" ry=\"18\"/>\n",
       "<text text-anchor=\"middle\" x=\"884.25\" y=\"-40.08\" font-family=\"Times New Roman,serif\" font-size=\"14.00\">*</text>\n",
       "</g>\n",
       "<!-- 2606374592656*&#45;&gt;2606374592656 -->\n",
       "<g id=\"edge1\" class=\"edge\">\n",
       "<title>2606374592656*&#45;&gt;2606374592656</title>\n",
       "<path fill=\"none\" stroke=\"black\" d=\"M911.65,-45.5C918.81,-45.5 927.02,-45.5 935.76,-45.5\"/>\n",
       "<polygon fill=\"black\" stroke=\"black\" points=\"935.57,-49 945.57,-45.5 935.57,-42 935.57,-49\"/>\n",
       "</g>\n",
       "<!-- 2606374971600 -->\n",
       "<g id=\"node4\" class=\"node\">\n",
       "<title>2606374971600</title>\n",
       "<polygon fill=\"none\" stroke=\"black\" points=\"316.88,-28.5 316.88,-64.5 505.88,-64.5 505.88,-28.5 316.88,-28.5\"/>\n",
       "<text text-anchor=\"middle\" x=\"326.75\" y=\"-41.2\" font-family=\"Times New Roman,serif\" font-size=\"14.00\"> </text>\n",
       "<polyline fill=\"none\" stroke=\"black\" points=\"336.62,-28.75 336.62,-64.5\"/>\n",
       "<text text-anchor=\"middle\" x=\"380.25\" y=\"-41.2\" font-family=\"Times New Roman,serif\" font-size=\"14.00\">data 14.5029</text>\n",
       "<polyline fill=\"none\" stroke=\"black\" points=\"423.88,-28.75 423.88,-64.5\"/>\n",
       "<text text-anchor=\"middle\" x=\"464.88\" y=\"-41.2\" font-family=\"Times New Roman,serif\" font-size=\"14.00\">grad 0.0000</text>\n",
       "</g>\n",
       "<!-- 2606374971600&#45;&gt;2606375759248+ -->\n",
       "<g id=\"edge8\" class=\"edge\">\n",
       "<title>2606374971600&#45;&gt;2606375759248+</title>\n",
       "<path fill=\"none\" stroke=\"black\" d=\"M506.2,-62.75C515.1,-64.29 523.72,-65.79 531.55,-67.14\"/>\n",
       "<polygon fill=\"black\" stroke=\"black\" points=\"530.84,-70.57 541.29,-68.83 532.04,-63.67 530.84,-70.57\"/>\n",
       "</g>\n",
       "<!-- 2606374971600* -->\n",
       "<g id=\"node5\" class=\"node\">\n",
       "<title>2606374971600*</title>\n",
       "<ellipse fill=\"none\" stroke=\"black\" cx=\"253.5\" cy=\"-46.5\" rx=\"27\" ry=\"18\"/>\n",
       "<text text-anchor=\"middle\" x=\"253.5\" y=\"-41.08\" font-family=\"Times New Roman,serif\" font-size=\"14.00\">*</text>\n",
       "</g>\n",
       "<!-- 2606374971600*&#45;&gt;2606374971600 -->\n",
       "<g id=\"edge2\" class=\"edge\">\n",
       "<title>2606374971600*&#45;&gt;2606374971600</title>\n",
       "<path fill=\"none\" stroke=\"black\" d=\"M280.94,-46.5C288.15,-46.5 296.42,-46.5 305.22,-46.5\"/>\n",
       "<polygon fill=\"black\" stroke=\"black\" points=\"305.09,-50 315.09,-46.5 305.09,-43 305.09,-50\"/>\n",
       "</g>\n",
       "<!-- 2606374669584 -->\n",
       "<g id=\"node6\" class=\"node\">\n",
       "<title>2606374669584</title>\n",
       "<polygon fill=\"none\" stroke=\"black\" points=\"633,-0.5 633,-36.5 820.5,-36.5 820.5,-0.5 633,-0.5\"/>\n",
       "<text text-anchor=\"middle\" x=\"643.25\" y=\"-13.2\" font-family=\"Times New Roman,serif\" font-size=\"14.00\">f</text>\n",
       "<polyline fill=\"none\" stroke=\"black\" points=\"653.5,-0.75 653.5,-36.5\"/>\n",
       "<text text-anchor=\"middle\" x=\"696\" y=\"-13.2\" font-family=\"Times New Roman,serif\" font-size=\"14.00\">data &#45;1.9228</text>\n",
       "<polyline fill=\"none\" stroke=\"black\" points=\"738.5,-0.75 738.5,-36.5\"/>\n",
       "<text text-anchor=\"middle\" x=\"779.5\" y=\"-13.2\" font-family=\"Times New Roman,serif\" font-size=\"14.00\">grad 3.7176</text>\n",
       "</g>\n",
       "<!-- 2606374669584&#45;&gt;2606374592656* -->\n",
       "<g id=\"edge7\" class=\"edge\">\n",
       "<title>2606374669584&#45;&gt;2606374592656*</title>\n",
       "<path fill=\"none\" stroke=\"black\" d=\"M820.9,-34.67C829.83,-36.22 838.48,-37.73 846.36,-39.09\"/>\n",
       "<polygon fill=\"black\" stroke=\"black\" points=\"845.7,-42.53 856.15,-40.79 846.89,-35.63 845.7,-42.53\"/>\n",
       "</g>\n",
       "<!-- 2606375759248 -->\n",
       "<g id=\"node7\" class=\"node\">\n",
       "<title>2606375759248</title>\n",
       "<polygon fill=\"none\" stroke=\"black\" points=\"632.25,-55.5 632.25,-91.5 821.25,-91.5 821.25,-55.5 632.25,-55.5\"/>\n",
       "<text text-anchor=\"middle\" x=\"642.12\" y=\"-68.2\" font-family=\"Times New Roman,serif\" font-size=\"14.00\"> </text>\n",
       "<polyline fill=\"none\" stroke=\"black\" points=\"652,-55.75 652,-91.5\"/>\n",
       "<text text-anchor=\"middle\" x=\"695.62\" y=\"-68.2\" font-family=\"Times New Roman,serif\" font-size=\"14.00\">data 24.4629</text>\n",
       "<polyline fill=\"none\" stroke=\"black\" points=\"739.25,-55.75 739.25,-91.5\"/>\n",
       "<text text-anchor=\"middle\" x=\"780.25\" y=\"-68.2\" font-family=\"Times New Roman,serif\" font-size=\"14.00\">grad 0.0000</text>\n",
       "</g>\n",
       "<!-- 2606375759248&#45;&gt;2606374592656* -->\n",
       "<g id=\"edge5\" class=\"edge\">\n",
       "<title>2606375759248&#45;&gt;2606374592656*</title>\n",
       "<path fill=\"none\" stroke=\"black\" d=\"M821.35,-56.65C830.23,-55.05 838.83,-53.5 846.64,-52.09\"/>\n",
       "<polygon fill=\"black\" stroke=\"black\" points=\"847.13,-55.56 856.35,-50.34 845.89,-48.67 847.13,-55.56\"/>\n",
       "</g>\n",
       "<!-- 2606375759248+&#45;&gt;2606375759248 -->\n",
       "<g id=\"edge3\" class=\"edge\">\n",
       "<title>2606375759248+&#45;&gt;2606375759248</title>\n",
       "<path fill=\"none\" stroke=\"black\" d=\"M596.63,-73.5C603.76,-73.5 611.93,-73.5 620.62,-73.5\"/>\n",
       "<polygon fill=\"black\" stroke=\"black\" points=\"620.36,-77 630.36,-73.5 620.36,-70 620.36,-77\"/>\n",
       "</g>\n",
       "<!-- 2606374712144 -->\n",
       "<g id=\"node9\" class=\"node\">\n",
       "<title>2606374712144</title>\n",
       "<polygon fill=\"none\" stroke=\"black\" points=\"3,-56.5 3,-92.5 187.5,-92.5 187.5,-56.5 3,-56.5\"/>\n",
       "<text text-anchor=\"middle\" x=\"14\" y=\"-69.2\" font-family=\"Times New Roman,serif\" font-size=\"14.00\">a</text>\n",
       "<polyline fill=\"none\" stroke=\"black\" points=\"25,-56.75 25,-92.5\"/>\n",
       "<text text-anchor=\"middle\" x=\"65.25\" y=\"-69.2\" font-family=\"Times New Roman,serif\" font-size=\"14.00\">data 2.1200</text>\n",
       "<polyline fill=\"none\" stroke=\"black\" points=\"105.5,-56.75 105.5,-92.5\"/>\n",
       "<text text-anchor=\"middle\" x=\"146.5\" y=\"-69.2\" font-family=\"Times New Roman,serif\" font-size=\"14.00\">grad 6.0000</text>\n",
       "</g>\n",
       "<!-- 2606374712144&#45;&gt;2606374971600* -->\n",
       "<g id=\"edge9\" class=\"edge\">\n",
       "<title>2606374712144&#45;&gt;2606374971600*</title>\n",
       "<path fill=\"none\" stroke=\"black\" d=\"M187.59,-58.13C197.51,-56.35 207.14,-54.63 215.8,-53.08\"/>\n",
       "<polygon fill=\"black\" stroke=\"black\" points=\"216.25,-56.55 225.48,-51.34 215.02,-49.66 216.25,-56.55\"/>\n",
       "</g>\n",
       "<!-- 2606376119696 -->\n",
       "<g id=\"node10\" class=\"node\">\n",
       "<title>2606376119696</title>\n",
       "<polygon fill=\"none\" stroke=\"black\" points=\"0,-1.5 0,-37.5 190.5,-37.5 190.5,-1.5 0,-1.5\"/>\n",
       "<text text-anchor=\"middle\" x=\"11.75\" y=\"-14.2\" font-family=\"Times New Roman,serif\" font-size=\"14.00\">b</text>\n",
       "<polyline fill=\"none\" stroke=\"black\" points=\"23.5,-1.75 23.5,-37.5\"/>\n",
       "<text text-anchor=\"middle\" x=\"63.75\" y=\"-14.2\" font-family=\"Times New Roman,serif\" font-size=\"14.00\">data 6.8410</text>\n",
       "<polyline fill=\"none\" stroke=\"black\" points=\"104,-1.75 104,-37.5\"/>\n",
       "<text text-anchor=\"middle\" x=\"147.25\" y=\"-14.2\" font-family=\"Times New Roman,serif\" font-size=\"14.00\">grad &#45;4.0000</text>\n",
       "</g>\n",
       "<!-- 2606376119696&#45;&gt;2606374971600* -->\n",
       "<g id=\"edge6\" class=\"edge\">\n",
       "<title>2606376119696&#45;&gt;2606374971600*</title>\n",
       "<path fill=\"none\" stroke=\"black\" d=\"M190.75,-35.83C199.54,-37.35 208.04,-38.82 215.78,-40.15\"/>\n",
       "<polygon fill=\"black\" stroke=\"black\" points=\"214.94,-43.56 225.39,-41.81 216.13,-36.66 214.94,-43.56\"/>\n",
       "</g>\n",
       "</g>\n",
       "</svg>\n"
      ],
      "text/plain": [
       "<graphviz.graphs.Digraph at 0x25ed8096e90>"
      ]
     },
     "execution_count": 43,
     "metadata": {},
     "output_type": "execute_result"
    }
   ],
   "source": [
    "draw_dot(L)"
   ]
  },
  {
   "cell_type": "code",
   "execution_count": 38,
   "metadata": {},
   "outputs": [],
   "source": [
    "a.grad = -3.0 * -2.0\n",
    "b.grad = 2.0 * -2.0"
   ]
  },
  {
   "cell_type": "code",
   "execution_count": 39,
   "metadata": {},
   "outputs": [],
   "source": [
    "c.grad = -2.0\n",
    "e.grad = -2.0"
   ]
  },
  {
   "cell_type": "code",
   "execution_count": 40,
   "metadata": {},
   "outputs": [],
   "source": [
    "f.grad = d.data\n",
    "d.grad = f.data\n",
    "L.grad = 1"
   ]
  },
  {
   "cell_type": "code",
   "execution_count": 41,
   "metadata": {},
   "outputs": [],
   "source": [
    "a.data += 0.01 * a.grad\n",
    "b.data += 0.01 * b.grad\n",
    "c.data += 0.01 * c.grad\n",
    "d.data += 0.01 * d.grad\n",
    "e.data += 0.01 * e.grad\n",
    "f.data += 0.01 * f.grad"
   ]
  },
  {
   "cell_type": "code",
   "execution_count": 42,
   "metadata": {},
   "outputs": [
    {
     "name": "stdout",
     "output_type": "stream",
     "text": [
      "-47.03788968608001\n"
     ]
    }
   ],
   "source": [
    "e = a * b\n",
    "d = e + c\n",
    "L = d * f\n",
    "\n",
    "print(L.data)"
   ]
  },
  {
   "cell_type": "code",
   "execution_count": 21,
   "metadata": {},
   "outputs": [
    {
     "data": {
      "image/png": "[encoded data removed]",
      "text/plain": [
       "<Figure size 640x480 with 1 Axes>"
      ]
     },
     "metadata": {},
     "output_type": "display_data"
    }
   ],
   "source": [
    "plt.plot(np.arange(-5, 5, .2), np.tanh(np.arange(-5, 5, .2))); plt.grid();"
   ]
  },
  {
   "cell_type": "code",
   "execution_count": 132,
   "metadata": {},
   "outputs": [],
   "source": [
    "# inputs x1 and x2\n",
    "x1 = Value(2.0, label='x1')\n",
    "x2 = Value(0.0, label='x2')\n",
    "# weights w1 and w2\n",
    "w1 = Value(-3.0, label='w1')\n",
    "w2 = Value(1.0, label='w2')\n",
    "# bias of the neuron\n",
    "b = Value(6.881, label='b')\n",
    "\n",
    "# x1*w1 + x2w2 + b\n",
    "x1w1 = x1*w1; x1w1.label = \"x1w1\" \n",
    "x2w2 = x2*w2; x2w2.label = \"x2w2\" \n",
    "\n",
    "x1w1x2w2 = x1w1 + x2w2; x1w1x2w2.label = 'x1*w1 + x2*w2'\n",
    "n = x1w1x2w2 + b; n.label = \"n\"\n",
    "o = n.tanh(); o.label = \"o\"\n",
    "\n",
    "o.backward()"
   ]
  },
  {
   "cell_type": "code",
   "execution_count": 133,
   "metadata": {},
   "outputs": [
    {
     "data": {
      "image/svg+xml": [
       "<?xml version=\"1.0\" encoding=\"UTF-8\" standalone=\"no\"?>\n",
       "<!DOCTYPE svg PUBLIC \"-//W3C//DTD SVG 1.1//EN\"\n",
       " \"http://www.w3.org/Graphics/SVG/1.1/DTD/svg11.dtd\">\n",
       "<!-- Generated by graphviz version 10.0.1 (20240210.2158)\n",
       " -->\n",
       "<!-- Pages: 1 -->\n",
       "<svg width=\"1568pt\" height=\"210pt\"\n",
       " viewBox=\"0.00 0.00 1568.00 210.00\" xmlns=\"http://www.w3.org/2000/svg\" xmlns:xlink=\"http://www.w3.org/1999/xlink\">\n",
       "<g id=\"graph0\" class=\"graph\" transform=\"scale(1 1) rotate(0) translate(4 206)\">\n",
       "<polygon fill=\"white\" stroke=\"none\" points=\"-4,4 -4,-206 1564,-206 1564,4 -4,4\"/>\n",
       "<!-- 2606433310224 -->\n",
       "<g id=\"node1\" class=\"node\">\n",
       "<title>2606433310224</title>\n",
       "<polygon fill=\"none\" stroke=\"black\" points=\"664.5,-82.5 664.5,-118.5 936.75,-118.5 936.75,-82.5 664.5,-82.5\"/>\n",
       "<text text-anchor=\"middle\" x=\"717.12\" y=\"-95.2\" font-family=\"Times New Roman,serif\" font-size=\"14.00\">x1*w1 + x2*w2</text>\n",
       "<polyline fill=\"none\" stroke=\"black\" points=\"769.75,-82.75 769.75,-118.5\"/>\n",
       "<text text-anchor=\"middle\" x=\"812.25\" y=\"-95.2\" font-family=\"Times New Roman,serif\" font-size=\"14.00\">data &#45;6.0000</text>\n",
       "<polyline fill=\"none\" stroke=\"black\" points=\"854.75,-82.75 854.75,-118.5\"/>\n",
       "<text text-anchor=\"middle\" x=\"895.75\" y=\"-95.2\" font-family=\"Times New Roman,serif\" font-size=\"14.00\">grad 0.5003</text>\n",
       "</g>\n",
       "<!-- 2606433320848+ -->\n",
       "<g id=\"node14\" class=\"node\">\n",
       "<title>2606433320848+</title>\n",
       "<ellipse fill=\"none\" stroke=\"black\" cx=\"999.75\" cy=\"-127.5\" rx=\"27\" ry=\"18\"/>\n",
       "<text text-anchor=\"middle\" x=\"999.75\" y=\"-122.08\" font-family=\"Times New Roman,serif\" font-size=\"14.00\">+</text>\n",
       "</g>\n",
       "<!-- 2606433310224&#45;&gt;2606433320848+ -->\n",
       "<g id=\"edge7\" class=\"edge\">\n",
       "<title>2606433310224&#45;&gt;2606433320848+</title>\n",
       "<path fill=\"none\" stroke=\"black\" d=\"M936.65,-118.99C945.59,-120.22 954.06,-121.38 961.71,-122.43\"/>\n",
       "<polygon fill=\"black\" stroke=\"black\" points=\"961.12,-125.88 971.5,-123.77 962.07,-118.94 961.12,-125.88\"/>\n",
       "</g>\n",
       "<!-- 2606433310224+ -->\n",
       "<g id=\"node2\" class=\"node\">\n",
       "<title>2606433310224+</title>\n",
       "<ellipse fill=\"none\" stroke=\"black\" cx=\"601.5\" cy=\"-100.5\" rx=\"27\" ry=\"18\"/>\n",
       "<text text-anchor=\"middle\" x=\"601.5\" y=\"-95.08\" font-family=\"Times New Roman,serif\" font-size=\"14.00\">+</text>\n",
       "</g>\n",
       "<!-- 2606433310224+&#45;&gt;2606433310224 -->\n",
       "<g id=\"edge1\" class=\"edge\">\n",
       "<title>2606433310224+&#45;&gt;2606433310224</title>\n",
       "<path fill=\"none\" stroke=\"black\" d=\"M628.68,-100.5C635.82,-100.5 644.1,-100.5 653.09,-100.5\"/>\n",
       "<polygon fill=\"black\" stroke=\"black\" points=\"652.85,-104 662.85,-100.5 652.85,-97 652.85,-104\"/>\n",
       "</g>\n",
       "<!-- 2606433313232 -->\n",
       "<g id=\"node3\" class=\"node\">\n",
       "<title>2606433313232</title>\n",
       "<polygon fill=\"none\" stroke=\"black\" points=\"327.75,-110.5 327.75,-146.5 536.25,-146.5 536.25,-110.5 327.75,-110.5\"/>\n",
       "<text text-anchor=\"middle\" x=\"350.75\" y=\"-123.2\" font-family=\"Times New Roman,serif\" font-size=\"14.00\">x2w2</text>\n",
       "<polyline fill=\"none\" stroke=\"black\" points=\"373.75,-110.75 373.75,-146.5\"/>\n",
       "<text text-anchor=\"middle\" x=\"414\" y=\"-123.2\" font-family=\"Times New Roman,serif\" font-size=\"14.00\">data 0.0000</text>\n",
       "<polyline fill=\"none\" stroke=\"black\" points=\"454.25,-110.75 454.25,-146.5\"/>\n",
       "<text text-anchor=\"middle\" x=\"495.25\" y=\"-123.2\" font-family=\"Times New Roman,serif\" font-size=\"14.00\">grad 0.5003</text>\n",
       "</g>\n",
       "<!-- 2606433313232&#45;&gt;2606433310224+ -->\n",
       "<g id=\"edge14\" class=\"edge\">\n",
       "<title>2606433313232&#45;&gt;2606433310224+</title>\n",
       "<path fill=\"none\" stroke=\"black\" d=\"M536.7,-111.17C546.14,-109.59 555.22,-108.07 563.43,-106.7\"/>\n",
       "<polygon fill=\"black\" stroke=\"black\" points=\"563.98,-110.15 573.27,-105.05 562.83,-103.25 563.98,-110.15\"/>\n",
       "</g>\n",
       "<!-- 2606433313232* -->\n",
       "<g id=\"node4\" class=\"node\">\n",
       "<title>2606433313232*</title>\n",
       "<ellipse fill=\"none\" stroke=\"black\" cx=\"262.5\" cy=\"-128.5\" rx=\"27\" ry=\"18\"/>\n",
       "<text text-anchor=\"middle\" x=\"262.5\" y=\"-123.08\" font-family=\"Times New Roman,serif\" font-size=\"14.00\">*</text>\n",
       "</g>\n",
       "<!-- 2606433313232*&#45;&gt;2606433313232 -->\n",
       "<g id=\"edge2\" class=\"edge\">\n",
       "<title>2606433313232*&#45;&gt;2606433313232</title>\n",
       "<path fill=\"none\" stroke=\"black\" d=\"M289.67,-128.5C297.34,-128.5 306.26,-128.5 315.82,-128.5\"/>\n",
       "<polygon fill=\"black\" stroke=\"black\" points=\"315.79,-132 325.79,-128.5 315.79,-125 315.79,-132\"/>\n",
       "</g>\n",
       "<!-- 2606433314256 -->\n",
       "<g id=\"node5\" class=\"node\">\n",
       "<title>2606433314256</title>\n",
       "<polygon fill=\"none\" stroke=\"black\" points=\"3.75,-165.5 3.75,-201.5 195.75,-201.5 195.75,-165.5 3.75,-165.5\"/>\n",
       "<text text-anchor=\"middle\" x=\"18.5\" y=\"-178.2\" font-family=\"Times New Roman,serif\" font-size=\"14.00\">x2</text>\n",
       "<polyline fill=\"none\" stroke=\"black\" points=\"33.25,-165.75 33.25,-201.5\"/>\n",
       "<text text-anchor=\"middle\" x=\"73.5\" y=\"-178.2\" font-family=\"Times New Roman,serif\" font-size=\"14.00\">data 0.0000</text>\n",
       "<polyline fill=\"none\" stroke=\"black\" points=\"113.75,-165.75 113.75,-201.5\"/>\n",
       "<text text-anchor=\"middle\" x=\"154.75\" y=\"-178.2\" font-family=\"Times New Roman,serif\" font-size=\"14.00\">grad 0.5003</text>\n",
       "</g>\n",
       "<!-- 2606433314256&#45;&gt;2606433313232* -->\n",
       "<g id=\"edge8\" class=\"edge\">\n",
       "<title>2606433314256&#45;&gt;2606433313232*</title>\n",
       "<path fill=\"none\" stroke=\"black\" d=\"M173.43,-165.03C182.28,-162.37 191.14,-159.51 199.5,-156.5 209.59,-152.87 220.33,-148.29 229.98,-143.89\"/>\n",
       "<polygon fill=\"black\" stroke=\"black\" points=\"231.37,-147.1 238.95,-139.7 228.41,-140.76 231.37,-147.1\"/>\n",
       "</g>\n",
       "<!-- 2606433309072 -->\n",
       "<g id=\"node6\" class=\"node\">\n",
       "<title>2606433309072</title>\n",
       "<polygon fill=\"none\" stroke=\"black\" points=\"1.5,-55.5 1.5,-91.5 198,-91.5 198,-55.5 1.5,-55.5\"/>\n",
       "<text text-anchor=\"middle\" x=\"16.25\" y=\"-68.2\" font-family=\"Times New Roman,serif\" font-size=\"14.00\">x1</text>\n",
       "<polyline fill=\"none\" stroke=\"black\" points=\"31,-55.75 31,-91.5\"/>\n",
       "<text text-anchor=\"middle\" x=\"71.25\" y=\"-68.2\" font-family=\"Times New Roman,serif\" font-size=\"14.00\">data 2.0000</text>\n",
       "<polyline fill=\"none\" stroke=\"black\" points=\"111.5,-55.75 111.5,-91.5\"/>\n",
       "<text text-anchor=\"middle\" x=\"154.75\" y=\"-68.2\" font-family=\"Times New Roman,serif\" font-size=\"14.00\">grad &#45;1.5008</text>\n",
       "</g>\n",
       "<!-- 2606433319248* -->\n",
       "<g id=\"node11\" class=\"node\">\n",
       "<title>2606433319248*</title>\n",
       "<ellipse fill=\"none\" stroke=\"black\" cx=\"262.5\" cy=\"-73.5\" rx=\"27\" ry=\"18\"/>\n",
       "<text text-anchor=\"middle\" x=\"262.5\" y=\"-68.08\" font-family=\"Times New Roman,serif\" font-size=\"14.00\">*</text>\n",
       "</g>\n",
       "<!-- 2606433309072&#45;&gt;2606433319248* -->\n",
       "<g id=\"edge11\" class=\"edge\">\n",
       "<title>2606433309072&#45;&gt;2606433319248*</title>\n",
       "<path fill=\"none\" stroke=\"black\" d=\"M198.43,-73.5C207.33,-73.5 215.94,-73.5 223.79,-73.5\"/>\n",
       "<polygon fill=\"black\" stroke=\"black\" points=\"223.53,-77 233.53,-73.5 223.53,-70 223.53,-77\"/>\n",
       "</g>\n",
       "<!-- 2606433306320 -->\n",
       "<g id=\"node7\" class=\"node\">\n",
       "<title>2606433306320</title>\n",
       "<polygon fill=\"none\" stroke=\"black\" points=\"1374,-109.5 1374,-145.5 1560,-145.5 1560,-109.5 1374,-109.5\"/>\n",
       "<text text-anchor=\"middle\" x=\"1385.75\" y=\"-122.2\" font-family=\"Times New Roman,serif\" font-size=\"14.00\">o</text>\n",
       "<polyline fill=\"none\" stroke=\"black\" points=\"1397.5,-109.75 1397.5,-145.5\"/>\n",
       "<text text-anchor=\"middle\" x=\"1437.75\" y=\"-122.2\" font-family=\"Times New Roman,serif\" font-size=\"14.00\">data 0.7069</text>\n",
       "<polyline fill=\"none\" stroke=\"black\" points=\"1478,-109.75 1478,-145.5\"/>\n",
       "<text text-anchor=\"middle\" x=\"1519\" y=\"-122.2\" font-family=\"Times New Roman,serif\" font-size=\"14.00\">grad 1.0000</text>\n",
       "</g>\n",
       "<!-- 2606433306320tanh -->\n",
       "<g id=\"node8\" class=\"node\">\n",
       "<title>2606433306320tanh</title>\n",
       "<ellipse fill=\"none\" stroke=\"black\" cx=\"1311\" cy=\"-127.5\" rx=\"27\" ry=\"18\"/>\n",
       "<text text-anchor=\"middle\" x=\"1311\" y=\"-122.08\" font-family=\"Times New Roman,serif\" font-size=\"14.00\">tanh</text>\n",
       "</g>\n",
       "<!-- 2606433306320tanh&#45;&gt;2606433306320 -->\n",
       "<g id=\"edge3\" class=\"edge\">\n",
       "<title>2606433306320tanh&#45;&gt;2606433306320</title>\n",
       "<path fill=\"none\" stroke=\"black\" d=\"M1338.47,-127.5C1345.61,-127.5 1353.78,-127.5 1362.46,-127.5\"/>\n",
       "<polygon fill=\"black\" stroke=\"black\" points=\"1362.19,-131 1372.19,-127.5 1362.19,-124 1362.19,-131\"/>\n",
       "</g>\n",
       "<!-- 2606433312016 -->\n",
       "<g id=\"node9\" class=\"node\">\n",
       "<title>2606433312016</title>\n",
       "<polygon fill=\"none\" stroke=\"black\" points=\"707.62,-137.5 707.62,-173.5 893.62,-173.5 893.62,-137.5 707.62,-137.5\"/>\n",
       "<text text-anchor=\"middle\" x=\"719.38\" y=\"-150.2\" font-family=\"Times New Roman,serif\" font-size=\"14.00\">b</text>\n",
       "<polyline fill=\"none\" stroke=\"black\" points=\"731.12,-137.75 731.12,-173.5\"/>\n",
       "<text text-anchor=\"middle\" x=\"771.38\" y=\"-150.2\" font-family=\"Times New Roman,serif\" font-size=\"14.00\">data 6.8810</text>\n",
       "<polyline fill=\"none\" stroke=\"black\" points=\"811.62,-137.75 811.62,-173.5\"/>\n",
       "<text text-anchor=\"middle\" x=\"852.62\" y=\"-150.2\" font-family=\"Times New Roman,serif\" font-size=\"14.00\">grad 0.5003</text>\n",
       "</g>\n",
       "<!-- 2606433312016&#45;&gt;2606433320848+ -->\n",
       "<g id=\"edge9\" class=\"edge\">\n",
       "<title>2606433312016&#45;&gt;2606433320848+</title>\n",
       "<path fill=\"none\" stroke=\"black\" d=\"M893.84,-142.4C917.9,-138.98 942.47,-135.49 961.78,-132.75\"/>\n",
       "<polygon fill=\"black\" stroke=\"black\" points=\"962.17,-136.23 971.57,-131.36 961.18,-129.3 962.17,-136.23\"/>\n",
       "</g>\n",
       "<!-- 2606433319248 -->\n",
       "<g id=\"node10\" class=\"node\">\n",
       "<title>2606433319248</title>\n",
       "<polygon fill=\"none\" stroke=\"black\" points=\"325.5,-55.5 325.5,-91.5 538.5,-91.5 538.5,-55.5 325.5,-55.5\"/>\n",
       "<text text-anchor=\"middle\" x=\"348.5\" y=\"-68.2\" font-family=\"Times New Roman,serif\" font-size=\"14.00\">x1w1</text>\n",
       "<polyline fill=\"none\" stroke=\"black\" points=\"371.5,-55.75 371.5,-91.5\"/>\n",
       "<text text-anchor=\"middle\" x=\"414\" y=\"-68.2\" font-family=\"Times New Roman,serif\" font-size=\"14.00\">data &#45;6.0000</text>\n",
       "<polyline fill=\"none\" stroke=\"black\" points=\"456.5,-55.75 456.5,-91.5\"/>\n",
       "<text text-anchor=\"middle\" x=\"497.5\" y=\"-68.2\" font-family=\"Times New Roman,serif\" font-size=\"14.00\">grad 0.5003</text>\n",
       "</g>\n",
       "<!-- 2606433319248&#45;&gt;2606433310224+ -->\n",
       "<g id=\"edge12\" class=\"edge\">\n",
       "<title>2606433319248&#45;&gt;2606433310224+</title>\n",
       "<path fill=\"none\" stroke=\"black\" d=\"M538.61,-90.52C547.35,-91.93 555.75,-93.29 563.4,-94.52\"/>\n",
       "<polygon fill=\"black\" stroke=\"black\" points=\"562.8,-97.97 573.23,-96.1 563.91,-91.06 562.8,-97.97\"/>\n",
       "</g>\n",
       "<!-- 2606433319248*&#45;&gt;2606433319248 -->\n",
       "<g id=\"edge4\" class=\"edge\">\n",
       "<title>2606433319248*&#45;&gt;2606433319248</title>\n",
       "<path fill=\"none\" stroke=\"black\" d=\"M289.67,-73.5C296.79,-73.5 304.98,-73.5 313.76,-73.5\"/>\n",
       "<polygon fill=\"black\" stroke=\"black\" points=\"313.64,-77 323.64,-73.5 313.64,-70 313.64,-77\"/>\n",
       "</g>\n",
       "<!-- 2606433304912 -->\n",
       "<g id=\"node12\" class=\"node\">\n",
       "<title>2606433304912</title>\n",
       "<polygon fill=\"none\" stroke=\"black\" points=\"0,-0.5 0,-36.5 199.5,-36.5 199.5,-0.5 0,-0.5\"/>\n",
       "<text text-anchor=\"middle\" x=\"16.25\" y=\"-13.2\" font-family=\"Times New Roman,serif\" font-size=\"14.00\">w1</text>\n",
       "<polyline fill=\"none\" stroke=\"black\" points=\"32.5,-0.75 32.5,-36.5\"/>\n",
       "<text text-anchor=\"middle\" x=\"75\" y=\"-13.2\" font-family=\"Times New Roman,serif\" font-size=\"14.00\">data &#45;3.0000</text>\n",
       "<polyline fill=\"none\" stroke=\"black\" points=\"117.5,-0.75 117.5,-36.5\"/>\n",
       "<text text-anchor=\"middle\" x=\"158.5\" y=\"-13.2\" font-family=\"Times New Roman,serif\" font-size=\"14.00\">grad 1.0005</text>\n",
       "</g>\n",
       "<!-- 2606433304912&#45;&gt;2606433319248* -->\n",
       "<g id=\"edge10\" class=\"edge\">\n",
       "<title>2606433304912&#45;&gt;2606433319248*</title>\n",
       "<path fill=\"none\" stroke=\"black\" d=\"M170.45,-36.99C180.27,-39.97 190.19,-43.17 199.5,-46.5 209.46,-50.06 220.09,-54.46 229.68,-58.67\"/>\n",
       "<polygon fill=\"black\" stroke=\"black\" points=\"228.04,-61.77 238.6,-62.66 230.9,-55.38 228.04,-61.77\"/>\n",
       "</g>\n",
       "<!-- 2606433320848 -->\n",
       "<g id=\"node13\" class=\"node\">\n",
       "<title>2606433320848</title>\n",
       "<polygon fill=\"none\" stroke=\"black\" points=\"1062.75,-109.5 1062.75,-145.5 1248,-145.5 1248,-109.5 1062.75,-109.5\"/>\n",
       "<text text-anchor=\"middle\" x=\"1074.12\" y=\"-122.2\" font-family=\"Times New Roman,serif\" font-size=\"14.00\">n</text>\n",
       "<polyline fill=\"none\" stroke=\"black\" points=\"1085.5,-109.75 1085.5,-145.5\"/>\n",
       "<text text-anchor=\"middle\" x=\"1125.75\" y=\"-122.2\" font-family=\"Times New Roman,serif\" font-size=\"14.00\">data 0.8810</text>\n",
       "<polyline fill=\"none\" stroke=\"black\" points=\"1166,-109.75 1166,-145.5\"/>\n",
       "<text text-anchor=\"middle\" x=\"1207\" y=\"-122.2\" font-family=\"Times New Roman,serif\" font-size=\"14.00\">grad 0.5003</text>\n",
       "</g>\n",
       "<!-- 2606433320848&#45;&gt;2606433306320tanh -->\n",
       "<g id=\"edge13\" class=\"edge\">\n",
       "<title>2606433320848&#45;&gt;2606433306320tanh</title>\n",
       "<path fill=\"none\" stroke=\"black\" d=\"M1248.4,-127.5C1256.77,-127.5 1264.89,-127.5 1272.34,-127.5\"/>\n",
       "<polygon fill=\"black\" stroke=\"black\" points=\"1272.28,-131 1282.28,-127.5 1272.28,-124 1272.28,-131\"/>\n",
       "</g>\n",
       "<!-- 2606433320848+&#45;&gt;2606433320848 -->\n",
       "<g id=\"edge5\" class=\"edge\">\n",
       "<title>2606433320848+&#45;&gt;2606433320848</title>\n",
       "<path fill=\"none\" stroke=\"black\" d=\"M1027.16,-127.5C1034.2,-127.5 1042.25,-127.5 1050.8,-127.5\"/>\n",
       "<polygon fill=\"black\" stroke=\"black\" points=\"1050.79,-131 1060.79,-127.5 1050.79,-124 1050.79,-131\"/>\n",
       "</g>\n",
       "<!-- 2606433320400 -->\n",
       "<g id=\"node15\" class=\"node\">\n",
       "<title>2606433320400</title>\n",
       "<polygon fill=\"none\" stroke=\"black\" points=\"2.25,-110.5 2.25,-146.5 197.25,-146.5 197.25,-110.5 2.25,-110.5\"/>\n",
       "<text text-anchor=\"middle\" x=\"18.5\" y=\"-123.2\" font-family=\"Times New Roman,serif\" font-size=\"14.00\">w2</text>\n",
       "<polyline fill=\"none\" stroke=\"black\" points=\"34.75,-110.75 34.75,-146.5\"/>\n",
       "<text text-anchor=\"middle\" x=\"75\" y=\"-123.2\" font-family=\"Times New Roman,serif\" font-size=\"14.00\">data 1.0000</text>\n",
       "<polyline fill=\"none\" stroke=\"black\" points=\"115.25,-110.75 115.25,-146.5\"/>\n",
       "<text text-anchor=\"middle\" x=\"156.25\" y=\"-123.2\" font-family=\"Times New Roman,serif\" font-size=\"14.00\">grad 0.0000</text>\n",
       "</g>\n",
       "<!-- 2606433320400&#45;&gt;2606433313232* -->\n",
       "<g id=\"edge6\" class=\"edge\">\n",
       "<title>2606433320400&#45;&gt;2606433313232*</title>\n",
       "<path fill=\"none\" stroke=\"black\" d=\"M197.51,-128.5C206.8,-128.5 215.79,-128.5 223.94,-128.5\"/>\n",
       "<polygon fill=\"black\" stroke=\"black\" points=\"223.72,-132 233.72,-128.5 223.72,-125 223.72,-132\"/>\n",
       "</g>\n",
       "</g>\n",
       "</svg>\n"
      ],
      "text/plain": [
       "<graphviz.graphs.Digraph at 0x25ed81d8190>"
      ]
     },
     "execution_count": 133,
     "metadata": {},
     "output_type": "execute_result"
    }
   ],
   "source": [
    "draw_dot(o)"
   ]
  },
  {
   "cell_type": "code",
   "execution_count": 144,
   "metadata": {},
   "outputs": [],
   "source": [
    "# inputs x1 and x2\n",
    "x1 = Value(2.0, label='x1')\n",
    "x2 = Value(0.0, label='x2')\n",
    "# weights w1 and w2\n",
    "w1 = Value(-3.0, label='w1')\n",
    "w2 = Value(1.0, label='w2')\n",
    "# bias of the neuron\n",
    "b = Value(6.881, label='b')\n",
    "\n",
    "# x1*w1 + x2w2 + b\n",
    "x1w1 = x1*w1; x1w1.label = \"x1w1\" \n",
    "x2w2 = x2*w2; x2w2.label = \"x2w2\" \n",
    "\n",
    "x1w1x2w2 = x1w1 + x2w2; x1w1x2w2.label = 'x1*w1 + x2*w2'\n",
    "n = x1w1x2w2 + b; n.label = \"n\"\n",
    "\n",
    "# ------------ breaking down tanh into exp\n",
    "e = (2 * n).exp(); e.label = \"e\"\n",
    "o = (e - 1) / (e + 1); o.label = \"o\"\n",
    "# ------------\n",
    "\n",
    "o.backward()"
   ]
  },
  {
   "cell_type": "markdown",
   "metadata": {},
   "source": [
    "the main point of this demonstration is that the implementation of the class is totally  up to us. The only thing that matters is that we can do forward and backward pass"
   ]
  },
  {
   "cell_type": "code",
   "execution_count": 145,
   "metadata": {},
   "outputs": [
    {
     "data": {
      "image/svg+xml": [
       "<?xml version=\"1.0\" encoding=\"UTF-8\" standalone=\"no\"?>\n",
       "<!DOCTYPE svg PUBLIC \"-//W3C//DTD SVG 1.1//EN\"\n",
       " \"http://www.w3.org/Graphics/SVG/1.1/DTD/svg11.dtd\">\n",
       "<!-- Generated by graphviz version 10.0.1 (20240210.2158)\n",
       " -->\n",
       "<!-- Pages: 1 -->\n",
       "<svg width=\"2938pt\" height=\"236pt\"\n",
       " viewBox=\"0.00 0.00 2938.25 236.00\" xmlns=\"http://www.w3.org/2000/svg\" xmlns:xlink=\"http://www.w3.org/1999/xlink\">\n",
       "<g id=\"graph0\" class=\"graph\" transform=\"scale(1 1) rotate(0) translate(4 232)\">\n",
       "<polygon fill=\"white\" stroke=\"none\" points=\"-4,4 -4,-232 2934.25,-232 2934.25,4 -4,4\"/>\n",
       "<!-- 2606375394768 -->\n",
       "<g id=\"node1\" class=\"node\">\n",
       "<title>2606375394768</title>\n",
       "<polygon fill=\"none\" stroke=\"black\" points=\"1995,-163.5 1995,-199.5 2181.75,-199.5 2181.75,-163.5 1995,-163.5\"/>\n",
       "<text text-anchor=\"middle\" x=\"2004.88\" y=\"-176.2\" font-family=\"Times New Roman,serif\" font-size=\"14.00\"> </text>\n",
       "<polyline fill=\"none\" stroke=\"black\" points=\"2014.75,-163.75 2014.75,-199.5\"/>\n",
       "<text text-anchor=\"middle\" x=\"2055\" y=\"-176.2\" font-family=\"Times New Roman,serif\" font-size=\"14.00\">data 6.8241</text>\n",
       "<polyline fill=\"none\" stroke=\"black\" points=\"2095.25,-163.75 2095.25,-199.5\"/>\n",
       "<text text-anchor=\"middle\" x=\"2138.5\" y=\"-176.2\" font-family=\"Times New Roman,serif\" font-size=\"14.00\">grad &#45;0.1036</text>\n",
       "</g>\n",
       "<!-- 2606375387408**&#45;1 -->\n",
       "<g id=\"node17\" class=\"node\">\n",
       "<title>2606375387408**&#45;1</title>\n",
       "<ellipse fill=\"none\" stroke=\"black\" cx=\"2308.88\" cy=\"-181.5\" rx=\"27.11\" ry=\"18\"/>\n",
       "<text text-anchor=\"middle\" x=\"2308.88\" y=\"-176.07\" font-family=\"Times New Roman,serif\" font-size=\"14.00\">**&#45;1</text>\n",
       "</g>\n",
       "<!-- 2606375394768&#45;&gt;2606375387408**&#45;1 -->\n",
       "<g id=\"edge20\" class=\"edge\">\n",
       "<title>2606375394768&#45;&gt;2606375387408**&#45;1</title>\n",
       "<path fill=\"none\" stroke=\"black\" d=\"M2182.04,-181.5C2213.03,-181.5 2245.83,-181.5 2270.18,-181.5\"/>\n",
       "<polygon fill=\"black\" stroke=\"black\" points=\"2269.89,-185 2279.89,-181.5 2269.89,-178 2269.89,-185\"/>\n",
       "</g>\n",
       "<!-- 2606375394768+ -->\n",
       "<g id=\"node2\" class=\"node\">\n",
       "<title>2606375394768+</title>\n",
       "<ellipse fill=\"none\" stroke=\"black\" cx=\"1932\" cy=\"-181.5\" rx=\"27\" ry=\"18\"/>\n",
       "<text text-anchor=\"middle\" x=\"1932\" y=\"-176.07\" font-family=\"Times New Roman,serif\" font-size=\"14.00\">+</text>\n",
       "</g>\n",
       "<!-- 2606375394768+&#45;&gt;2606375394768 -->\n",
       "<g id=\"edge1\" class=\"edge\">\n",
       "<title>2606375394768+&#45;&gt;2606375394768</title>\n",
       "<path fill=\"none\" stroke=\"black\" d=\"M1959.19,-181.5C1966.32,-181.5 1974.52,-181.5 1983.23,-181.5\"/>\n",
       "<polygon fill=\"black\" stroke=\"black\" points=\"1983,-185 1993,-181.5 1983,-178 1983,-185\"/>\n",
       "</g>\n",
       "<!-- 2606375390736 -->\n",
       "<g id=\"node3\" class=\"node\">\n",
       "<title>2606375390736</title>\n",
       "<polygon fill=\"none\" stroke=\"black\" points=\"1682.25,-191.5 1682.25,-227.5 1869,-227.5 1869,-191.5 1682.25,-191.5\"/>\n",
       "<text text-anchor=\"middle\" x=\"1692.12\" y=\"-204.2\" font-family=\"Times New Roman,serif\" font-size=\"14.00\"> </text>\n",
       "<polyline fill=\"none\" stroke=\"black\" points=\"1702,-191.75 1702,-227.5\"/>\n",
       "<text text-anchor=\"middle\" x=\"1742.25\" y=\"-204.2\" font-family=\"Times New Roman,serif\" font-size=\"14.00\">data 1.0000</text>\n",
       "<polyline fill=\"none\" stroke=\"black\" points=\"1782.5,-191.75 1782.5,-227.5\"/>\n",
       "<text text-anchor=\"middle\" x=\"1825.75\" y=\"-204.2\" font-family=\"Times New Roman,serif\" font-size=\"14.00\">grad &#45;0.1036</text>\n",
       "</g>\n",
       "<!-- 2606375390736&#45;&gt;2606375394768+ -->\n",
       "<g id=\"edge24\" class=\"edge\">\n",
       "<title>2606375390736&#45;&gt;2606375394768+</title>\n",
       "<path fill=\"none\" stroke=\"black\" d=\"M1869.1,-192.73C1877.97,-191.12 1886.56,-189.56 1894.37,-188.14\"/>\n",
       "<polygon fill=\"black\" stroke=\"black\" points=\"1894.87,-191.61 1904.08,-186.38 1893.62,-184.72 1894.87,-191.61\"/>\n",
       "</g>\n",
       "<!-- 2606375394896 -->\n",
       "<g id=\"node4\" class=\"node\">\n",
       "<title>2606375394896</title>\n",
       "<polygon fill=\"none\" stroke=\"black\" points=\"0,-165.5 0,-201.5 199.5,-201.5 199.5,-165.5 0,-165.5\"/>\n",
       "<text text-anchor=\"middle\" x=\"16.25\" y=\"-178.2\" font-family=\"Times New Roman,serif\" font-size=\"14.00\">w1</text>\n",
       "<polyline fill=\"none\" stroke=\"black\" points=\"32.5,-165.75 32.5,-201.5\"/>\n",
       "<text text-anchor=\"middle\" x=\"75\" y=\"-178.2\" font-family=\"Times New Roman,serif\" font-size=\"14.00\">data &#45;3.0000</text>\n",
       "<polyline fill=\"none\" stroke=\"black\" points=\"117.5,-165.75 117.5,-201.5\"/>\n",
       "<text text-anchor=\"middle\" x=\"158.5\" y=\"-178.2\" font-family=\"Times New Roman,serif\" font-size=\"14.00\">grad 1.0005</text>\n",
       "</g>\n",
       "<!-- 2606375392656* -->\n",
       "<g id=\"node6\" class=\"node\">\n",
       "<title>2606375392656*</title>\n",
       "<ellipse fill=\"none\" stroke=\"black\" cx=\"262.5\" cy=\"-128.5\" rx=\"27\" ry=\"18\"/>\n",
       "<text text-anchor=\"middle\" x=\"262.5\" y=\"-123.08\" font-family=\"Times New Roman,serif\" font-size=\"14.00\">*</text>\n",
       "</g>\n",
       "<!-- 2606375394896&#45;&gt;2606375392656* -->\n",
       "<g id=\"edge17\" class=\"edge\">\n",
       "<title>2606375394896&#45;&gt;2606375392656*</title>\n",
       "<path fill=\"none\" stroke=\"black\" d=\"M173.43,-165.03C182.28,-162.37 191.14,-159.51 199.5,-156.5 209.59,-152.87 220.33,-148.29 229.98,-143.89\"/>\n",
       "<polygon fill=\"black\" stroke=\"black\" points=\"231.37,-147.1 238.95,-139.7 228.41,-140.76 231.37,-147.1\"/>\n",
       "</g>\n",
       "<!-- 2606375392656 -->\n",
       "<g id=\"node5\" class=\"node\">\n",
       "<title>2606375392656</title>\n",
       "<polygon fill=\"none\" stroke=\"black\" points=\"325.5,-110.5 325.5,-146.5 538.5,-146.5 538.5,-110.5 325.5,-110.5\"/>\n",
       "<text text-anchor=\"middle\" x=\"348.5\" y=\"-123.2\" font-family=\"Times New Roman,serif\" font-size=\"14.00\">x1w1</text>\n",
       "<polyline fill=\"none\" stroke=\"black\" points=\"371.5,-110.75 371.5,-146.5\"/>\n",
       "<text text-anchor=\"middle\" x=\"414\" y=\"-123.2\" font-family=\"Times New Roman,serif\" font-size=\"14.00\">data &#45;6.0000</text>\n",
       "<polyline fill=\"none\" stroke=\"black\" points=\"456.5,-110.75 456.5,-146.5\"/>\n",
       "<text text-anchor=\"middle\" x=\"497.5\" y=\"-123.2\" font-family=\"Times New Roman,serif\" font-size=\"14.00\">grad 0.5003</text>\n",
       "</g>\n",
       "<!-- 2606375402320+ -->\n",
       "<g id=\"node20\" class=\"node\">\n",
       "<title>2606375402320+</title>\n",
       "<ellipse fill=\"none\" stroke=\"black\" cx=\"601.5\" cy=\"-100.5\" rx=\"27\" ry=\"18\"/>\n",
       "<text text-anchor=\"middle\" x=\"601.5\" y=\"-95.08\" font-family=\"Times New Roman,serif\" font-size=\"14.00\">+</text>\n",
       "</g>\n",
       "<!-- 2606375392656&#45;&gt;2606375402320+ -->\n",
       "<g id=\"edge22\" class=\"edge\">\n",
       "<title>2606375392656&#45;&gt;2606375402320+</title>\n",
       "<path fill=\"none\" stroke=\"black\" d=\"M538.61,-110.85C547.54,-109.35 556.12,-107.92 563.9,-106.62\"/>\n",
       "<polygon fill=\"black\" stroke=\"black\" points=\"564.24,-110.11 573.53,-105.01 563.09,-103.21 564.24,-110.11\"/>\n",
       "</g>\n",
       "<!-- 2606375392656*&#45;&gt;2606375392656 -->\n",
       "<g id=\"edge2\" class=\"edge\">\n",
       "<title>2606375392656*&#45;&gt;2606375392656</title>\n",
       "<path fill=\"none\" stroke=\"black\" d=\"M289.67,-128.5C296.79,-128.5 304.98,-128.5 313.76,-128.5\"/>\n",
       "<polygon fill=\"black\" stroke=\"black\" points=\"313.64,-132 323.64,-128.5 313.64,-125 313.64,-132\"/>\n",
       "</g>\n",
       "<!-- 2606375395472 -->\n",
       "<g id=\"node7\" class=\"node\">\n",
       "<title>2606375395472</title>\n",
       "<polygon fill=\"none\" stroke=\"black\" points=\"1683.38,-136.5 1683.38,-172.5 1867.88,-172.5 1867.88,-136.5 1683.38,-136.5\"/>\n",
       "<text text-anchor=\"middle\" x=\"1694.38\" y=\"-149.2\" font-family=\"Times New Roman,serif\" font-size=\"14.00\">e</text>\n",
       "<polyline fill=\"none\" stroke=\"black\" points=\"1705.38,-136.75 1705.38,-172.5\"/>\n",
       "<text text-anchor=\"middle\" x=\"1745.62\" y=\"-149.2\" font-family=\"Times New Roman,serif\" font-size=\"14.00\">data 5.8241</text>\n",
       "<polyline fill=\"none\" stroke=\"black\" points=\"1785.88,-136.75 1785.88,-172.5\"/>\n",
       "<text text-anchor=\"middle\" x=\"1826.88\" y=\"-149.2\" font-family=\"Times New Roman,serif\" font-size=\"14.00\">grad 0.0429</text>\n",
       "</g>\n",
       "<!-- 2606375395472&#45;&gt;2606375394768+ -->\n",
       "<g id=\"edge12\" class=\"edge\">\n",
       "<title>2606375395472&#45;&gt;2606375394768+</title>\n",
       "<path fill=\"none\" stroke=\"black\" d=\"M1868.21,-170.52C1877.37,-172.12 1886.25,-173.67 1894.31,-175.08\"/>\n",
       "<polygon fill=\"black\" stroke=\"black\" points=\"1893.52,-178.5 1903.97,-176.77 1894.73,-171.6 1893.52,-178.5\"/>\n",
       "</g>\n",
       "<!-- 2606375391568+ -->\n",
       "<g id=\"node22\" class=\"node\">\n",
       "<title>2606375391568+</title>\n",
       "<ellipse fill=\"none\" stroke=\"black\" cx=\"1932\" cy=\"-126.5\" rx=\"27\" ry=\"18\"/>\n",
       "<text text-anchor=\"middle\" x=\"1932\" y=\"-121.08\" font-family=\"Times New Roman,serif\" font-size=\"14.00\">+</text>\n",
       "</g>\n",
       "<!-- 2606375395472&#45;&gt;2606375391568+ -->\n",
       "<g id=\"edge16\" class=\"edge\">\n",
       "<title>2606375395472&#45;&gt;2606375391568+</title>\n",
       "<path fill=\"none\" stroke=\"black\" d=\"M1868.21,-137.89C1877.37,-136.23 1886.25,-134.62 1894.31,-133.15\"/>\n",
       "<polygon fill=\"black\" stroke=\"black\" points=\"1894.76,-136.63 1903.98,-131.4 1893.51,-129.74 1894.76,-136.63\"/>\n",
       "</g>\n",
       "<!-- 2606375395472exp -->\n",
       "<g id=\"node8\" class=\"node\">\n",
       "<title>2606375395472exp</title>\n",
       "<ellipse fill=\"none\" stroke=\"black\" cx=\"1619.25\" cy=\"-154.5\" rx=\"27\" ry=\"18\"/>\n",
       "<text text-anchor=\"middle\" x=\"1619.25\" y=\"-149.07\" font-family=\"Times New Roman,serif\" font-size=\"14.00\">exp</text>\n",
       "</g>\n",
       "<!-- 2606375395472exp&#45;&gt;2606375395472 -->\n",
       "<g id=\"edge3\" class=\"edge\">\n",
       "<title>2606375395472exp&#45;&gt;2606375395472</title>\n",
       "<path fill=\"none\" stroke=\"black\" d=\"M1646.44,-154.5C1653.9,-154.5 1662.51,-154.5 1671.67,-154.5\"/>\n",
       "<polygon fill=\"black\" stroke=\"black\" points=\"1671.56,-158 1681.56,-154.5 1671.56,-151 1671.56,-158\"/>\n",
       "</g>\n",
       "<!-- 2606375388304 -->\n",
       "<g id=\"node9\" class=\"node\">\n",
       "<title>2606375388304</title>\n",
       "<polygon fill=\"none\" stroke=\"black\" points=\"2744.25,-135.5 2744.25,-171.5 2930.25,-171.5 2930.25,-135.5 2744.25,-135.5\"/>\n",
       "<text text-anchor=\"middle\" x=\"2756\" y=\"-148.2\" font-family=\"Times New Roman,serif\" font-size=\"14.00\">o</text>\n",
       "<polyline fill=\"none\" stroke=\"black\" points=\"2767.75,-135.75 2767.75,-171.5\"/>\n",
       "<text text-anchor=\"middle\" x=\"2808\" y=\"-148.2\" font-family=\"Times New Roman,serif\" font-size=\"14.00\">data 0.7069</text>\n",
       "<polyline fill=\"none\" stroke=\"black\" points=\"2848.25,-135.75 2848.25,-171.5\"/>\n",
       "<text text-anchor=\"middle\" x=\"2889.25\" y=\"-148.2\" font-family=\"Times New Roman,serif\" font-size=\"14.00\">grad 1.0000</text>\n",
       "</g>\n",
       "<!-- 2606375388304* -->\n",
       "<g id=\"node10\" class=\"node\">\n",
       "<title>2606375388304*</title>\n",
       "<ellipse fill=\"none\" stroke=\"black\" cx=\"2681.25\" cy=\"-153.5\" rx=\"27\" ry=\"18\"/>\n",
       "<text text-anchor=\"middle\" x=\"2681.25\" y=\"-148.07\" font-family=\"Times New Roman,serif\" font-size=\"14.00\">*</text>\n",
       "</g>\n",
       "<!-- 2606375388304*&#45;&gt;2606375388304 -->\n",
       "<g id=\"edge4\" class=\"edge\">\n",
       "<title>2606375388304*&#45;&gt;2606375388304</title>\n",
       "<path fill=\"none\" stroke=\"black\" d=\"M2708.72,-153.5C2715.86,-153.5 2724.03,-153.5 2732.71,-153.5\"/>\n",
       "<polygon fill=\"black\" stroke=\"black\" points=\"2732.44,-157 2742.44,-153.5 2732.44,-150 2732.44,-157\"/>\n",
       "</g>\n",
       "<!-- 2606375389840 -->\n",
       "<g id=\"node11\" class=\"node\">\n",
       "<title>2606375389840</title>\n",
       "<polygon fill=\"none\" stroke=\"black\" points=\"327.75,-55.5 327.75,-91.5 536.25,-91.5 536.25,-55.5 327.75,-55.5\"/>\n",
       "<text text-anchor=\"middle\" x=\"350.75\" y=\"-68.2\" font-family=\"Times New Roman,serif\" font-size=\"14.00\">x2w2</text>\n",
       "<polyline fill=\"none\" stroke=\"black\" points=\"373.75,-55.75 373.75,-91.5\"/>\n",
       "<text text-anchor=\"middle\" x=\"414\" y=\"-68.2\" font-family=\"Times New Roman,serif\" font-size=\"14.00\">data 0.0000</text>\n",
       "<polyline fill=\"none\" stroke=\"black\" points=\"454.25,-55.75 454.25,-91.5\"/>\n",
       "<text text-anchor=\"middle\" x=\"495.25\" y=\"-68.2\" font-family=\"Times New Roman,serif\" font-size=\"14.00\">grad 0.5003</text>\n",
       "</g>\n",
       "<!-- 2606375389840&#45;&gt;2606375402320+ -->\n",
       "<g id=\"edge23\" class=\"edge\">\n",
       "<title>2606375389840&#45;&gt;2606375402320+</title>\n",
       "<path fill=\"none\" stroke=\"black\" d=\"M536.7,-90.22C546.14,-91.74 555.22,-93.2 563.43,-94.52\"/>\n",
       "<polygon fill=\"black\" stroke=\"black\" points=\"562.84,-97.97 573.27,-96.11 563.95,-91.06 562.84,-97.97\"/>\n",
       "</g>\n",
       "<!-- 2606375389840* -->\n",
       "<g id=\"node12\" class=\"node\">\n",
       "<title>2606375389840*</title>\n",
       "<ellipse fill=\"none\" stroke=\"black\" cx=\"262.5\" cy=\"-73.5\" rx=\"27\" ry=\"18\"/>\n",
       "<text text-anchor=\"middle\" x=\"262.5\" y=\"-68.08\" font-family=\"Times New Roman,serif\" font-size=\"14.00\">*</text>\n",
       "</g>\n",
       "<!-- 2606375389840*&#45;&gt;2606375389840 -->\n",
       "<g id=\"edge5\" class=\"edge\">\n",
       "<title>2606375389840*&#45;&gt;2606375389840</title>\n",
       "<path fill=\"none\" stroke=\"black\" d=\"M289.67,-73.5C297.34,-73.5 306.26,-73.5 315.82,-73.5\"/>\n",
       "<polygon fill=\"black\" stroke=\"black\" points=\"315.79,-77 325.79,-73.5 315.79,-70 315.79,-77\"/>\n",
       "</g>\n",
       "<!-- 2606375390352 -->\n",
       "<g id=\"node13\" class=\"node\">\n",
       "<title>2606375390352</title>\n",
       "<polygon fill=\"none\" stroke=\"black\" points=\"1064.25,-164.5 1064.25,-200.5 1246.5,-200.5 1246.5,-164.5 1064.25,-164.5\"/>\n",
       "<text text-anchor=\"middle\" x=\"1074.12\" y=\"-177.2\" font-family=\"Times New Roman,serif\" font-size=\"14.00\"> </text>\n",
       "<polyline fill=\"none\" stroke=\"black\" points=\"1084,-164.75 1084,-200.5\"/>\n",
       "<text text-anchor=\"middle\" x=\"1124.25\" y=\"-177.2\" font-family=\"Times New Roman,serif\" font-size=\"14.00\">data 2.0000</text>\n",
       "<polyline fill=\"none\" stroke=\"black\" points=\"1164.5,-164.75 1164.5,-200.5\"/>\n",
       "<text text-anchor=\"middle\" x=\"1205.5\" y=\"-177.2\" font-family=\"Times New Roman,serif\" font-size=\"14.00\">grad 0.2204</text>\n",
       "</g>\n",
       "<!-- 2606375396816* -->\n",
       "<g id=\"node27\" class=\"node\">\n",
       "<title>2606375396816*</title>\n",
       "<ellipse fill=\"none\" stroke=\"black\" cx=\"1311\" cy=\"-154.5\" rx=\"27\" ry=\"18\"/>\n",
       "<text text-anchor=\"middle\" x=\"1311\" y=\"-149.07\" font-family=\"Times New Roman,serif\" font-size=\"14.00\">*</text>\n",
       "</g>\n",
       "<!-- 2606375390352&#45;&gt;2606375396816* -->\n",
       "<g id=\"edge19\" class=\"edge\">\n",
       "<title>2606375390352&#45;&gt;2606375396816*</title>\n",
       "<path fill=\"none\" stroke=\"black\" d=\"M1246.63,-166.05C1256.04,-164.34 1265.17,-162.67 1273.44,-161.16\"/>\n",
       "<polygon fill=\"black\" stroke=\"black\" points=\"1273.79,-164.66 1283,-159.42 1272.53,-157.77 1273.79,-164.66\"/>\n",
       "</g>\n",
       "<!-- 2606375398608 -->\n",
       "<g id=\"node14\" class=\"node\">\n",
       "<title>2606375398608</title>\n",
       "<polygon fill=\"none\" stroke=\"black\" points=\"1.5,-110.5 1.5,-146.5 198,-146.5 198,-110.5 1.5,-110.5\"/>\n",
       "<text text-anchor=\"middle\" x=\"16.25\" y=\"-123.2\" font-family=\"Times New Roman,serif\" font-size=\"14.00\">x1</text>\n",
       "<polyline fill=\"none\" stroke=\"black\" points=\"31,-110.75 31,-146.5\"/>\n",
       "<text text-anchor=\"middle\" x=\"71.25\" y=\"-123.2\" font-family=\"Times New Roman,serif\" font-size=\"14.00\">data 2.0000</text>\n",
       "<polyline fill=\"none\" stroke=\"black\" points=\"111.5,-110.75 111.5,-146.5\"/>\n",
       "<text text-anchor=\"middle\" x=\"154.75\" y=\"-123.2\" font-family=\"Times New Roman,serif\" font-size=\"14.00\">grad &#45;1.5008</text>\n",
       "</g>\n",
       "<!-- 2606375398608&#45;&gt;2606375392656* -->\n",
       "<g id=\"edge11\" class=\"edge\">\n",
       "<title>2606375398608&#45;&gt;2606375392656*</title>\n",
       "<path fill=\"none\" stroke=\"black\" d=\"M198.43,-128.5C207.33,-128.5 215.94,-128.5 223.79,-128.5\"/>\n",
       "<polygon fill=\"black\" stroke=\"black\" points=\"223.53,-132 233.53,-128.5 223.53,-125 223.53,-132\"/>\n",
       "</g>\n",
       "<!-- 2606375400656 -->\n",
       "<g id=\"node15\" class=\"node\">\n",
       "<title>2606375400656</title>\n",
       "<polygon fill=\"none\" stroke=\"black\" points=\"2.25,-55.5 2.25,-91.5 197.25,-91.5 197.25,-55.5 2.25,-55.5\"/>\n",
       "<text text-anchor=\"middle\" x=\"18.5\" y=\"-68.2\" font-family=\"Times New Roman,serif\" font-size=\"14.00\">w2</text>\n",
       "<polyline fill=\"none\" stroke=\"black\" points=\"34.75,-55.75 34.75,-91.5\"/>\n",
       "<text text-anchor=\"middle\" x=\"75\" y=\"-68.2\" font-family=\"Times New Roman,serif\" font-size=\"14.00\">data 1.0000</text>\n",
       "<polyline fill=\"none\" stroke=\"black\" points=\"115.25,-55.75 115.25,-91.5\"/>\n",
       "<text text-anchor=\"middle\" x=\"156.25\" y=\"-68.2\" font-family=\"Times New Roman,serif\" font-size=\"14.00\">grad 0.0000</text>\n",
       "</g>\n",
       "<!-- 2606375400656&#45;&gt;2606375389840* -->\n",
       "<g id=\"edge26\" class=\"edge\">\n",
       "<title>2606375400656&#45;&gt;2606375389840*</title>\n",
       "<path fill=\"none\" stroke=\"black\" d=\"M197.51,-73.5C206.8,-73.5 215.79,-73.5 223.94,-73.5\"/>\n",
       "<polygon fill=\"black\" stroke=\"black\" points=\"223.72,-77 233.72,-73.5 223.72,-70 223.72,-77\"/>\n",
       "</g>\n",
       "<!-- 2606375387408 -->\n",
       "<g id=\"node16\" class=\"node\">\n",
       "<title>2606375387408</title>\n",
       "<polygon fill=\"none\" stroke=\"black\" points=\"2436,-161.5 2436,-197.5 2618.25,-197.5 2618.25,-161.5 2436,-161.5\"/>\n",
       "<text text-anchor=\"middle\" x=\"2445.88\" y=\"-174.2\" font-family=\"Times New Roman,serif\" font-size=\"14.00\"> </text>\n",
       "<polyline fill=\"none\" stroke=\"black\" points=\"2455.75,-161.75 2455.75,-197.5\"/>\n",
       "<text text-anchor=\"middle\" x=\"2496\" y=\"-174.2\" font-family=\"Times New Roman,serif\" font-size=\"14.00\">data 0.1465</text>\n",
       "<polyline fill=\"none\" stroke=\"black\" points=\"2536.25,-161.75 2536.25,-197.5\"/>\n",
       "<text text-anchor=\"middle\" x=\"2577.25\" y=\"-174.2\" font-family=\"Times New Roman,serif\" font-size=\"14.00\">grad 4.8241</text>\n",
       "</g>\n",
       "<!-- 2606375387408&#45;&gt;2606375388304* -->\n",
       "<g id=\"edge15\" class=\"edge\">\n",
       "<title>2606375387408&#45;&gt;2606375388304*</title>\n",
       "<path fill=\"none\" stroke=\"black\" d=\"M2618.37,-164.08C2627.21,-162.56 2635.78,-161.1 2643.59,-159.77\"/>\n",
       "<polygon fill=\"black\" stroke=\"black\" points=\"2644.03,-163.24 2653.3,-158.11 2642.85,-156.34 2644.03,-163.24\"/>\n",
       "</g>\n",
       "<!-- 2606375387408**&#45;1&#45;&gt;2606375387408 -->\n",
       "<g id=\"edge6\" class=\"edge\">\n",
       "<title>2606375387408**&#45;1&#45;&gt;2606375387408</title>\n",
       "<path fill=\"none\" stroke=\"black\" d=\"M2336.39,-181.25C2358.59,-181.05 2391.75,-180.74 2424.17,-180.44\"/>\n",
       "<polygon fill=\"black\" stroke=\"black\" points=\"2424.11,-183.94 2434.08,-180.35 2424.04,-176.94 2424.11,-183.94\"/>\n",
       "</g>\n",
       "<!-- 2606375387600 -->\n",
       "<g id=\"node18\" class=\"node\">\n",
       "<title>2606375387600</title>\n",
       "<polygon fill=\"none\" stroke=\"black\" points=\"707.62,-137.5 707.62,-173.5 893.62,-173.5 893.62,-137.5 707.62,-137.5\"/>\n",
       "<text text-anchor=\"middle\" x=\"719.38\" y=\"-150.2\" font-family=\"Times New Roman,serif\" font-size=\"14.00\">b</text>\n",
       "<polyline fill=\"none\" stroke=\"black\" points=\"731.12,-137.75 731.12,-173.5\"/>\n",
       "<text text-anchor=\"middle\" x=\"771.38\" y=\"-150.2\" font-family=\"Times New Roman,serif\" font-size=\"14.00\">data 6.8810</text>\n",
       "<polyline fill=\"none\" stroke=\"black\" points=\"811.62,-137.75 811.62,-173.5\"/>\n",
       "<text text-anchor=\"middle\" x=\"852.62\" y=\"-150.2\" font-family=\"Times New Roman,serif\" font-size=\"14.00\">grad 0.5003</text>\n",
       "</g>\n",
       "<!-- 2606375399312+ -->\n",
       "<g id=\"node24\" class=\"node\">\n",
       "<title>2606375399312+</title>\n",
       "<ellipse fill=\"none\" stroke=\"black\" cx=\"999.75\" cy=\"-127.5\" rx=\"27\" ry=\"18\"/>\n",
       "<text text-anchor=\"middle\" x=\"999.75\" y=\"-122.08\" font-family=\"Times New Roman,serif\" font-size=\"14.00\">+</text>\n",
       "</g>\n",
       "<!-- 2606375387600&#45;&gt;2606375399312+ -->\n",
       "<g id=\"edge13\" class=\"edge\">\n",
       "<title>2606375387600&#45;&gt;2606375399312+</title>\n",
       "<path fill=\"none\" stroke=\"black\" d=\"M893.84,-142.4C917.9,-138.98 942.47,-135.49 961.78,-132.75\"/>\n",
       "<polygon fill=\"black\" stroke=\"black\" points=\"962.17,-136.23 971.57,-131.36 961.18,-129.3 962.17,-136.23\"/>\n",
       "</g>\n",
       "<!-- 2606375402320 -->\n",
       "<g id=\"node19\" class=\"node\">\n",
       "<title>2606375402320</title>\n",
       "<polygon fill=\"none\" stroke=\"black\" points=\"664.5,-82.5 664.5,-118.5 936.75,-118.5 936.75,-82.5 664.5,-82.5\"/>\n",
       "<text text-anchor=\"middle\" x=\"717.12\" y=\"-95.2\" font-family=\"Times New Roman,serif\" font-size=\"14.00\">x1*w1 + x2*w2</text>\n",
       "<polyline fill=\"none\" stroke=\"black\" points=\"769.75,-82.75 769.75,-118.5\"/>\n",
       "<text text-anchor=\"middle\" x=\"812.25\" y=\"-95.2\" font-family=\"Times New Roman,serif\" font-size=\"14.00\">data &#45;6.0000</text>\n",
       "<polyline fill=\"none\" stroke=\"black\" points=\"854.75,-82.75 854.75,-118.5\"/>\n",
       "<text text-anchor=\"middle\" x=\"895.75\" y=\"-95.2\" font-family=\"Times New Roman,serif\" font-size=\"14.00\">grad 0.5003</text>\n",
       "</g>\n",
       "<!-- 2606375402320&#45;&gt;2606375399312+ -->\n",
       "<g id=\"edge14\" class=\"edge\">\n",
       "<title>2606375402320&#45;&gt;2606375399312+</title>\n",
       "<path fill=\"none\" stroke=\"black\" d=\"M936.65,-118.99C945.59,-120.22 954.06,-121.38 961.71,-122.43\"/>\n",
       "<polygon fill=\"black\" stroke=\"black\" points=\"961.12,-125.88 971.5,-123.77 962.07,-118.94 961.12,-125.88\"/>\n",
       "</g>\n",
       "<!-- 2606375402320+&#45;&gt;2606375402320 -->\n",
       "<g id=\"edge7\" class=\"edge\">\n",
       "<title>2606375402320+&#45;&gt;2606375402320</title>\n",
       "<path fill=\"none\" stroke=\"black\" d=\"M628.68,-100.5C635.82,-100.5 644.1,-100.5 653.09,-100.5\"/>\n",
       "<polygon fill=\"black\" stroke=\"black\" points=\"652.85,-104 662.85,-100.5 652.85,-97 652.85,-104\"/>\n",
       "</g>\n",
       "<!-- 2606375391568 -->\n",
       "<g id=\"node21\" class=\"node\">\n",
       "<title>2606375391568</title>\n",
       "<polygon fill=\"none\" stroke=\"black\" points=\"2217.75,-108.5 2217.75,-144.5 2400,-144.5 2400,-108.5 2217.75,-108.5\"/>\n",
       "<text text-anchor=\"middle\" x=\"2227.62\" y=\"-121.2\" font-family=\"Times New Roman,serif\" font-size=\"14.00\"> </text>\n",
       "<polyline fill=\"none\" stroke=\"black\" points=\"2237.5,-108.75 2237.5,-144.5\"/>\n",
       "<text text-anchor=\"middle\" x=\"2277.75\" y=\"-121.2\" font-family=\"Times New Roman,serif\" font-size=\"14.00\">data 4.8241</text>\n",
       "<polyline fill=\"none\" stroke=\"black\" points=\"2318,-108.75 2318,-144.5\"/>\n",
       "<text text-anchor=\"middle\" x=\"2359\" y=\"-121.2\" font-family=\"Times New Roman,serif\" font-size=\"14.00\">grad 0.1465</text>\n",
       "</g>\n",
       "<!-- 2606375391568&#45;&gt;2606375388304* -->\n",
       "<g id=\"edge27\" class=\"edge\">\n",
       "<title>2606375391568&#45;&gt;2606375388304*</title>\n",
       "<path fill=\"none\" stroke=\"black\" d=\"M2400.48,-133.1C2478.25,-138.77 2586.46,-146.66 2642.79,-150.77\"/>\n",
       "<polygon fill=\"black\" stroke=\"black\" points=\"2642.25,-154.24 2652.48,-151.48 2642.76,-147.26 2642.25,-154.24\"/>\n",
       "</g>\n",
       "<!-- 2606375391568+&#45;&gt;2606375391568 -->\n",
       "<g id=\"edge8\" class=\"edge\">\n",
       "<title>2606375391568+&#45;&gt;2606375391568</title>\n",
       "<path fill=\"none\" stroke=\"black\" d=\"M1959.36,-126.5C2009.79,-126.5 2122.34,-126.5 2205.97,-126.5\"/>\n",
       "<polygon fill=\"black\" stroke=\"black\" points=\"2205.8,-130 2215.8,-126.5 2205.8,-123 2205.8,-130\"/>\n",
       "</g>\n",
       "<!-- 2606375399312 -->\n",
       "<g id=\"node23\" class=\"node\">\n",
       "<title>2606375399312</title>\n",
       "<polygon fill=\"none\" stroke=\"black\" points=\"1062.75,-109.5 1062.75,-145.5 1248,-145.5 1248,-109.5 1062.75,-109.5\"/>\n",
       "<text text-anchor=\"middle\" x=\"1074.12\" y=\"-122.2\" font-family=\"Times New Roman,serif\" font-size=\"14.00\">n</text>\n",
       "<polyline fill=\"none\" stroke=\"black\" points=\"1085.5,-109.75 1085.5,-145.5\"/>\n",
       "<text text-anchor=\"middle\" x=\"1125.75\" y=\"-122.2\" font-family=\"Times New Roman,serif\" font-size=\"14.00\">data 0.8810</text>\n",
       "<polyline fill=\"none\" stroke=\"black\" points=\"1166,-109.75 1166,-145.5\"/>\n",
       "<text text-anchor=\"middle\" x=\"1207\" y=\"-122.2\" font-family=\"Times New Roman,serif\" font-size=\"14.00\">grad 0.5003</text>\n",
       "</g>\n",
       "<!-- 2606375399312&#45;&gt;2606375396816* -->\n",
       "<g id=\"edge21\" class=\"edge\">\n",
       "<title>2606375399312&#45;&gt;2606375396816*</title>\n",
       "<path fill=\"none\" stroke=\"black\" d=\"M1248.4,-143.67C1257.14,-145.21 1265.61,-146.7 1273.33,-148.05\"/>\n",
       "<polygon fill=\"black\" stroke=\"black\" points=\"1272.45,-151.45 1282.91,-149.74 1273.66,-144.56 1272.45,-151.45\"/>\n",
       "</g>\n",
       "<!-- 2606375399312+&#45;&gt;2606375399312 -->\n",
       "<g id=\"edge9\" class=\"edge\">\n",
       "<title>2606375399312+&#45;&gt;2606375399312</title>\n",
       "<path fill=\"none\" stroke=\"black\" d=\"M1027.16,-127.5C1034.2,-127.5 1042.25,-127.5 1050.8,-127.5\"/>\n",
       "<polygon fill=\"black\" stroke=\"black\" points=\"1050.79,-131 1060.79,-127.5 1050.79,-124 1050.79,-131\"/>\n",
       "</g>\n",
       "<!-- 2606375402896 -->\n",
       "<g id=\"node25\" class=\"node\">\n",
       "<title>2606375402896</title>\n",
       "<polygon fill=\"none\" stroke=\"black\" points=\"1682.25,-81.5 1682.25,-117.5 1869,-117.5 1869,-81.5 1682.25,-81.5\"/>\n",
       "<text text-anchor=\"middle\" x=\"1692.12\" y=\"-94.2\" font-family=\"Times New Roman,serif\" font-size=\"14.00\"> </text>\n",
       "<polyline fill=\"none\" stroke=\"black\" points=\"1702,-81.75 1702,-117.5\"/>\n",
       "<text text-anchor=\"middle\" x=\"1744.5\" y=\"-94.2\" font-family=\"Times New Roman,serif\" font-size=\"14.00\">data &#45;1.0000</text>\n",
       "<polyline fill=\"none\" stroke=\"black\" points=\"1787,-81.75 1787,-117.5\"/>\n",
       "<text text-anchor=\"middle\" x=\"1828\" y=\"-94.2\" font-family=\"Times New Roman,serif\" font-size=\"14.00\">grad 0.1465</text>\n",
       "</g>\n",
       "<!-- 2606375402896&#45;&gt;2606375391568+ -->\n",
       "<g id=\"edge25\" class=\"edge\">\n",
       "<title>2606375402896&#45;&gt;2606375391568+</title>\n",
       "<path fill=\"none\" stroke=\"black\" d=\"M1869.1,-115.67C1877.97,-117.22 1886.56,-118.73 1894.37,-120.09\"/>\n",
       "<polygon fill=\"black\" stroke=\"black\" points=\"1893.63,-123.52 1904.08,-121.79 1894.83,-116.62 1893.63,-123.52\"/>\n",
       "</g>\n",
       "<!-- 2606375396816 -->\n",
       "<g id=\"node26\" class=\"node\">\n",
       "<title>2606375396816</title>\n",
       "<polygon fill=\"none\" stroke=\"black\" points=\"1374,-136.5 1374,-172.5 1556.25,-172.5 1556.25,-136.5 1374,-136.5\"/>\n",
       "<text text-anchor=\"middle\" x=\"1383.88\" y=\"-149.2\" font-family=\"Times New Roman,serif\" font-size=\"14.00\"> </text>\n",
       "<polyline fill=\"none\" stroke=\"black\" points=\"1393.75,-136.75 1393.75,-172.5\"/>\n",
       "<text text-anchor=\"middle\" x=\"1434\" y=\"-149.2\" font-family=\"Times New Roman,serif\" font-size=\"14.00\">data 1.7620</text>\n",
       "<polyline fill=\"none\" stroke=\"black\" points=\"1474.25,-136.75 1474.25,-172.5\"/>\n",
       "<text text-anchor=\"middle\" x=\"1515.25\" y=\"-149.2\" font-family=\"Times New Roman,serif\" font-size=\"14.00\">grad 0.2501</text>\n",
       "</g>\n",
       "<!-- 2606375396816&#45;&gt;2606375395472exp -->\n",
       "<g id=\"edge28\" class=\"edge\">\n",
       "<title>2606375396816&#45;&gt;2606375395472exp</title>\n",
       "<path fill=\"none\" stroke=\"black\" d=\"M1556.37,-154.5C1564.76,-154.5 1572.9,-154.5 1580.37,-154.5\"/>\n",
       "<polygon fill=\"black\" stroke=\"black\" points=\"1580.37,-158 1590.37,-154.5 1580.37,-151 1580.37,-158\"/>\n",
       "</g>\n",
       "<!-- 2606375396816*&#45;&gt;2606375396816 -->\n",
       "<g id=\"edge10\" class=\"edge\">\n",
       "<title>2606375396816*&#45;&gt;2606375396816</title>\n",
       "<path fill=\"none\" stroke=\"black\" d=\"M1338.5,-154.5C1345.54,-154.5 1353.59,-154.5 1362.13,-154.5\"/>\n",
       "<polygon fill=\"black\" stroke=\"black\" points=\"1362.09,-158 1372.09,-154.5 1362.09,-151 1362.09,-158\"/>\n",
       "</g>\n",
       "<!-- 2606375393744 -->\n",
       "<g id=\"node28\" class=\"node\">\n",
       "<title>2606375393744</title>\n",
       "<polygon fill=\"none\" stroke=\"black\" points=\"3.75,-0.5 3.75,-36.5 195.75,-36.5 195.75,-0.5 3.75,-0.5\"/>\n",
       "<text text-anchor=\"middle\" x=\"18.5\" y=\"-13.2\" font-family=\"Times New Roman,serif\" font-size=\"14.00\">x2</text>\n",
       "<polyline fill=\"none\" stroke=\"black\" points=\"33.25,-0.75 33.25,-36.5\"/>\n",
       "<text text-anchor=\"middle\" x=\"73.5\" y=\"-13.2\" font-family=\"Times New Roman,serif\" font-size=\"14.00\">data 0.0000</text>\n",
       "<polyline fill=\"none\" stroke=\"black\" points=\"113.75,-0.75 113.75,-36.5\"/>\n",
       "<text text-anchor=\"middle\" x=\"154.75\" y=\"-13.2\" font-family=\"Times New Roman,serif\" font-size=\"14.00\">grad 0.5003</text>\n",
       "</g>\n",
       "<!-- 2606375393744&#45;&gt;2606375389840* -->\n",
       "<g id=\"edge18\" class=\"edge\">\n",
       "<title>2606375393744&#45;&gt;2606375389840*</title>\n",
       "<path fill=\"none\" stroke=\"black\" d=\"M173.43,-36.97C182.28,-39.63 191.14,-42.49 199.5,-45.5 209.59,-49.13 220.33,-53.71 229.98,-58.11\"/>\n",
       "<polygon fill=\"black\" stroke=\"black\" points=\"228.41,-61.24 238.95,-62.3 231.37,-54.9 228.41,-61.24\"/>\n",
       "</g>\n",
       "</g>\n",
       "</svg>\n"
      ],
      "text/plain": [
       "<graphviz.graphs.Digraph at 0x25ed807b290>"
      ]
     },
     "execution_count": 145,
     "metadata": {},
     "output_type": "execute_result"
    }
   ],
   "source": [
    "draw_dot(o)"
   ]
  },
  {
   "cell_type": "markdown",
   "metadata": {},
   "source": [
    "### automatic backprop\n",
    "last thing is to stop asking ._backward() manually. \n",
    "\n",
    "To achieve this, we don't want to call ._backward() on a node until we have done everything after it. We have to get full dependencies, eveything it depends on to propagate before we continute backpropagation.\n",
    "\n",
    "This ordering of graphs can be achieved using ***topological sort***. It is a laying out of a graph so that edges go only from the left to right."
   ]
  },
  {
   "cell_type": "code",
   "execution_count": 126,
   "metadata": {},
   "outputs": [],
   "source": [
    "o.backward()"
   ]
  },
  {
   "cell_type": "markdown",
   "metadata": {},
   "source": [
    "starting from the root, in our case last item o, we trace all of its children and lay out from left to right. what is left is to call ._backward() on each of them in the topological order"
   ]
  },
  {
   "cell_type": "markdown",
   "metadata": {},
   "source": [
    "### implementing ._backward() on node level"
   ]
  },
  {
   "cell_type": "markdown",
   "metadata": {},
   "source": [
    "first time we need to initialize the gradient"
   ]
  },
  {
   "cell_type": "code",
   "execution_count": 85,
   "metadata": {},
   "outputs": [],
   "source": [
    "o.grad = 1.0"
   ]
  },
  {
   "cell_type": "markdown",
   "metadata": {},
   "source": [
    "by default backward is an empty function. when we trigger it using brackets, the info about updating the gradients of the previous nodes saved in node.backward is triggered"
   ]
  },
  {
   "cell_type": "code",
   "execution_count": 86,
   "metadata": {},
   "outputs": [],
   "source": [
    "o._backward()"
   ]
  },
  {
   "cell_type": "code",
   "execution_count": 88,
   "metadata": {},
   "outputs": [],
   "source": [
    "n._backward()"
   ]
  },
  {
   "cell_type": "code",
   "execution_count": 89,
   "metadata": {},
   "outputs": [],
   "source": [
    "b._backward()"
   ]
  },
  {
   "cell_type": "code",
   "execution_count": 92,
   "metadata": {},
   "outputs": [],
   "source": [
    "x1w1x2w2._backward()"
   ]
  },
  {
   "cell_type": "code",
   "execution_count": 93,
   "metadata": {},
   "outputs": [],
   "source": [
    "x1w1._backward()"
   ]
  },
  {
   "cell_type": "code",
   "execution_count": 94,
   "metadata": {},
   "outputs": [],
   "source": [
    "x2w2._backward()"
   ]
  },
  {
   "cell_type": "markdown",
   "metadata": {},
   "source": [
    "### fully manual backprop"
   ]
  },
  {
   "cell_type": "code",
   "execution_count": 72,
   "metadata": {},
   "outputs": [],
   "source": [
    "w2.grad = x2.data * x2w2.grad\n",
    "w1.grad = x1.data * x1w1.grad"
   ]
  },
  {
   "cell_type": "code",
   "execution_count": 70,
   "metadata": {},
   "outputs": [],
   "source": [
    "x2.grad = w2.data * x2w2.grad\n",
    "x1.grad = w1.data * x1w1.grad"
   ]
  },
  {
   "cell_type": "code",
   "execution_count": 69,
   "metadata": {},
   "outputs": [],
   "source": [
    "x1w1.grad = 0.5\n",
    "x2w2.grad = 0.5"
   ]
  },
  {
   "cell_type": "code",
   "execution_count": 68,
   "metadata": {},
   "outputs": [],
   "source": [
    "x1w1x2w2.grad = 0.5\n",
    "b.grad = 0.5"
   ]
  },
  {
   "cell_type": "code",
   "execution_count": 67,
   "metadata": {},
   "outputs": [],
   "source": [
    "n.grad = 0.5"
   ]
  },
  {
   "cell_type": "code",
   "execution_count": 66,
   "metadata": {},
   "outputs": [],
   "source": [
    "o.grad = 1.0"
   ]
  },
  {
   "cell_type": "code",
   "execution_count": 32,
   "metadata": {},
   "outputs": [
    {
     "data": {
      "text/plain": [
       "0.5002642007944019"
      ]
     },
     "execution_count": 32,
     "metadata": {},
     "output_type": "execute_result"
    }
   ],
   "source": [
    "1 - o.data**2"
   ]
  },
  {
   "cell_type": "markdown",
   "metadata": {},
   "source": [
    "## micrograd but in pytorch"
   ]
  },
  {
   "cell_type": "code",
   "execution_count": 151,
   "metadata": {},
   "outputs": [],
   "source": [
    "import torch"
   ]
  },
  {
   "cell_type": "code",
   "execution_count": 166,
   "metadata": {},
   "outputs": [
    {
     "name": "stdout",
     "output_type": "stream",
     "text": [
      "0.7071050214706146\n",
      "---\n",
      "x2 0.5000024886110417\n",
      "w2 0.0\n",
      "x1 -1.500007465833125\n",
      "w2 0.0\n"
     ]
    }
   ],
   "source": [
    "x1 = torch.Tensor([2.0]).double()                        ; x1.requires_grad = True\n",
    "x2 = torch.Tensor([0.0]).double()                        ; x2.requires_grad = True\n",
    "w1 = torch.Tensor([-3.0]).double()                       ; w1.requires_grad = True\n",
    "w2 = torch.Tensor([1.0]).double()                        ; w2.requires_grad = True\n",
    "b = torch.Tensor([6.88137]).double()                     ; b.requires_grad = True\n",
    "n = x1*w1 + x2*w2 + b                                    \n",
    "o = torch.tanh(n)                                        \n",
    "\n",
    "print(o.data.item())\n",
    "o.backward()\n",
    "\n",
    "print(\"---\")\n",
    "print('x2', x2.grad.item())\n",
    "print('w2', w2.grad.item())\n",
    "print('x1', x1.grad.item())\n",
    "print('w2', w2.grad.item())"
   ]
  },
  {
   "cell_type": "markdown",
   "metadata": {},
   "source": [
    "pytorch's API matches ours, with the only difference that it is much more efficient while working with the tensors. Our micrograd only works with scalars"
   ]
  },
  {
   "cell_type": "markdown",
   "metadata": {},
   "source": [
    "## Building nn library"
   ]
  },
  {
   "cell_type": "code",
   "execution_count": 170,
   "metadata": {},
   "outputs": [],
   "source": [
    "import random"
   ]
  },
  {
   "cell_type": "code",
   "execution_count": 177,
   "metadata": {},
   "outputs": [
    {
     "data": {
      "text/plain": [
       "Value(data=-0.9964728786403472)"
      ]
     },
     "execution_count": 177,
     "metadata": {},
     "output_type": "execute_result"
    }
   ],
   "source": [
    "class Neuron:\n",
    "    def __init__(self, nin):\n",
    "        self.w = [Value(random.uniform(-1, 1)) for _ in range(nin)]\n",
    "        self.b = Value(random.uniform(-1, 1))\n",
    "\n",
    "    def __call__(self, x):\n",
    "        # w * x + b\n",
    "        act = sum(wi*xi for wi, xi in list(zip(self.w, x))) + self.b\n",
    "        out = act.tanh()\n",
    "        return out\n",
    "    \n",
    "x = [2.0, 3.0]\n",
    "n = Neuron(2)\n",
    "n(x)"
   ]
  }
 ],
 "metadata": {
  "kernelspec": {
   "display_name": ".venv",
   "language": "python",
   "name": "python3"
  },
  "language_info": {
   "codemirror_mode": {
    "name": "ipython",
    "version": 3
   },
   "file_extension": ".py",
   "mimetype": "text/x-python",
   "name": "python",
   "nbconvert_exporter": "python",
   "pygments_lexer": "ipython3",
   "version": "3.11.9"
  }
 },
 "nbformat": 4,
 "nbformat_minor": 2
}
